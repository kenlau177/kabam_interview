{
 "cells": [
  {
   "cell_type": "code",
   "execution_count": 130,
   "id": "868f9a6f-a178-4149-a3fd-8dcfbc5d024f",
   "metadata": {},
   "outputs": [],
   "source": [
    "import sqlite3\n",
    "import pandas as pd\n",
    "import numpy as np\n",
    "import seaborn as sns\n",
    "from sklearn.model_selection import train_test_split\n",
    "from sklearn.ensemble import RandomForestClassifier\n",
    "from sklearn.preprocessing import StandardScaler\n",
    "from sklearn.metrics import accuracy_score\n",
    "from sklearn.metrics import precision_score\n",
    "from sklearn.metrics import recall_score"
   ]
  },
  {
   "cell_type": "code",
   "execution_count": 131,
   "id": "73a73181-66b3-405f-b90f-71712f366380",
   "metadata": {},
   "outputs": [],
   "source": [
    "pd.set_option('display.max_rows', 500)\n",
    "pd.set_option('max_columns', 30)"
   ]
  },
  {
   "cell_type": "code",
   "execution_count": 132,
   "id": "c4dd41fa-df28-4817-b72a-6d6fec233623",
   "metadata": {},
   "outputs": [],
   "source": [
    "conn = sqlite3.connect('ka_devices.db')"
   ]
  },
  {
   "cell_type": "code",
   "execution_count": 133,
   "id": "ab1b7fe7-4462-4df7-8fd1-5e97d34b5e88",
   "metadata": {},
   "outputs": [],
   "source": [
    "# Read in datasets\n",
    "actions_dat = pd.read_parquet('ka_actions.parquet', engine='fastparquet')\n",
    "users_dat = pd.read_csv('ka_users.csv')\n",
    "devices_dat = pd.read_sql_query(\"SELECT * FROM devices\", conn)"
   ]
  },
  {
   "cell_type": "code",
   "execution_count": 134,
   "id": "be0537fa-2e26-47be-b5b9-9d3a97331fab",
   "metadata": {},
   "outputs": [],
   "source": [
    "# Remove unnecessary index column in devices\n",
    "devices_dat.drop(['index'], axis=1, inplace=True)"
   ]
  },
  {
   "cell_type": "code",
   "execution_count": 135,
   "id": "6bd83251-3743-4d74-859b-cd6c467decb3",
   "metadata": {},
   "outputs": [
    {
     "name": "stdout",
     "output_type": "stream",
     "text": [
      "(2845931, 8)\n",
      "(2845931, 13)\n",
      "(2845931, 10)\n",
      "0\n",
      "0\n",
      "0\n",
      "126\n",
      "26\n",
      "5244989\n"
     ]
    }
   ],
   "source": [
    "# Examine size of datasets and to check for nulls in the dataset\n",
    "print(users_dat.shape); print(devices_dat.shape); print(actions_dat.shape);\n",
    "print(users_dat['uid_s'].isna().sum())\n",
    "print(devices_dat['uid_s'].isna().sum())\n",
    "print(actions_dat['uid_s'].isna().sum())\n",
    "print(users_dat.isna().sum().sum())\n",
    "print(devices_dat.isna().sum().sum())\n",
    "print(actions_dat.isna().sum().sum())"
   ]
  },
  {
   "cell_type": "code",
   "execution_count": 136,
   "id": "18f80e88-9c8c-4d79-8005-3527a7f30a55",
   "metadata": {},
   "outputs": [],
   "source": [
    "# Join datasets by user id\n",
    "users_devices_joined = users_dat.merge(devices_dat, on='uid_s')\n",
    "full_dat = users_devices_joined.merge(actions_dat, on='uid_s')"
   ]
  },
  {
   "cell_type": "code",
   "execution_count": 137,
   "id": "a8393c59-bc2e-4ea3-970b-5373f0af9db2",
   "metadata": {},
   "outputs": [],
   "source": [
    "# Remove variables to save memory\n",
    "del actions_dat\n",
    "del users_dat\n",
    "del devices_dat\n",
    "del users_devices_joined"
   ]
  },
  {
   "cell_type": "code",
   "execution_count": 138,
   "id": "7edb0bc3-fd30-4850-b7d1-aee3957d1d81",
   "metadata": {},
   "outputs": [
    {
     "name": "stdout",
     "output_type": "stream",
     "text": [
      "(2845931, 29)\n",
      "0\n",
      "0\n"
     ]
    }
   ],
   "source": [
    "# Assure that no data is lost when data is joined\n",
    "print(full_dat.shape)\n",
    "print(full_dat['uid_s'].isna().sum())\n",
    "print(full_dat['total_spend'].isna().sum())"
   ]
  },
  {
   "cell_type": "code",
   "execution_count": 139,
   "id": "57c0c529-5434-4346-a38a-6a77654a9de7",
   "metadata": {},
   "outputs": [],
   "source": [
    "# Before diving into the data further, split the dataset into train(60%) and test(40%) for model evaluation\n",
    "train, test = train_test_split(full_dat, test_size=0.4, random_state=12)"
   ]
  },
  {
   "cell_type": "code",
   "execution_count": 140,
   "id": "79200779-26c6-4d43-a88e-2d7c00c20fed",
   "metadata": {},
   "outputs": [],
   "source": [
    "# At this point, I would like to understand the data a bit more using the training set\n",
    "\n",
    "# Some questions I would like to figure out:\n",
    "# Is there value in predicting the spend for users who do not complete the tutorial (0 or NaN)\n",
    "# Can we use game_stats_xp as an input for predictions\n",
    "\n",
    "# Make a copy of the training data set to do some exploration in the data\n",
    "explore_dat = train.copy()"
   ]
  },
  {
   "cell_type": "markdown",
   "id": "6e75968d-d2df-4d28-a271-5247a82d8aa0",
   "metadata": {},
   "source": [
    "BEGIN OF DATA EXPLORATION"
   ]
  },
  {
   "cell_type": "code",
   "execution_count": 141,
   "id": "a21231af-27e0-4c4b-bae2-da945a00bc72",
   "metadata": {},
   "outputs": [],
   "source": [
    "# Add a column spender that denotes whether users spent in lifetime\n",
    "explore_dat['spender'] = explore_dat['total_spend'] > 0"
   ]
  },
  {
   "cell_type": "code",
   "execution_count": 142,
   "id": "61300a17-fe84-4485-bb15-d9478bdd4f8b",
   "metadata": {},
   "outputs": [
    {
     "data": {
      "text/html": [
       "<div>\n",
       "<style scoped>\n",
       "    .dataframe tbody tr th:only-of-type {\n",
       "        vertical-align: middle;\n",
       "    }\n",
       "\n",
       "    .dataframe tbody tr th {\n",
       "        vertical-align: top;\n",
       "    }\n",
       "\n",
       "    .dataframe thead th {\n",
       "        text-align: right;\n",
       "    }\n",
       "</style>\n",
       "<table border=\"1\" class=\"dataframe\">\n",
       "  <thead>\n",
       "    <tr style=\"text-align: right;\">\n",
       "      <th></th>\n",
       "      <th>game_stats_tutorial_complete</th>\n",
       "      <th>sum_spend</th>\n",
       "      <th>avg_spend</th>\n",
       "      <th>prop_spend</th>\n",
       "      <th>num_users</th>\n",
       "    </tr>\n",
       "  </thead>\n",
       "  <tbody>\n",
       "    <tr>\n",
       "      <th>0</th>\n",
       "      <td>0.0</td>\n",
       "      <td>2555</td>\n",
       "      <td>0.803965</td>\n",
       "      <td>0.006608</td>\n",
       "      <td>3178</td>\n",
       "    </tr>\n",
       "    <tr>\n",
       "      <th>1</th>\n",
       "      <td>1.0</td>\n",
       "      <td>1969060</td>\n",
       "      <td>1.872474</td>\n",
       "      <td>0.017514</td>\n",
       "      <td>1051582</td>\n",
       "    </tr>\n",
       "    <tr>\n",
       "      <th>2</th>\n",
       "      <td>NaN</td>\n",
       "      <td>112100</td>\n",
       "      <td>0.171722</td>\n",
       "      <td>0.001547</td>\n",
       "      <td>652798</td>\n",
       "    </tr>\n",
       "  </tbody>\n",
       "</table>\n",
       "</div>"
      ],
      "text/plain": [
       "   game_stats_tutorial_complete  sum_spend  avg_spend  prop_spend  num_users\n",
       "0                           0.0       2555   0.803965    0.006608       3178\n",
       "1                           1.0    1969060   1.872474    0.017514    1051582\n",
       "2                           NaN     112100   0.171722    0.001547     652798"
      ]
     },
     "execution_count": 142,
     "metadata": {},
     "output_type": "execute_result"
    }
   ],
   "source": [
    "explore_dat.groupby('game_stats_tutorial_complete', as_index=False, dropna=False).agg(sum_spend=('total_spend','sum'), avg_spend=('total_spend','mean'), prop_spend=('spender','mean'), num_users=('spender','count'))"
   ]
  },
  {
   "cell_type": "markdown",
   "id": "4a58e095-b35d-416c-8659-fc3c547f6ea9",
   "metadata": {},
   "source": [
    "- We can see below that there is still a significant amount of spend coming from users who do not complete the tutorial (0 or NaN)\n",
    "- Some hypothesis I have would be: purchases can be made even before completing the tutorial, there are users with different devices, and the data is capturing them in different user ids, or tutorials can be skipped\n",
    "- I think we should still try to make a prediction for these users due to the amount of spend it still brings in (especially for the NaN rows). \n",
    "- I think we should try to predict spend for these users separately from the users who do complete the tutorial."
   ]
  },
  {
   "cell_type": "code",
   "execution_count": 143,
   "id": "38ca0259-53de-4245-b379-96ceca04a8bc",
   "metadata": {},
   "outputs": [],
   "source": [
    "# Add a column that denotes whether a user has gained xp in the forth time interval\n",
    "explore_dat['game_stats_xp3_conv'] = explore_dat['game_stats_xp3'] > 0"
   ]
  },
  {
   "cell_type": "code",
   "execution_count": 144,
   "id": "e47b398f-26e0-476b-b10e-28ab3de853ec",
   "metadata": {},
   "outputs": [
    {
     "data": {
      "text/html": [
       "<div>\n",
       "<style scoped>\n",
       "    .dataframe tbody tr th:only-of-type {\n",
       "        vertical-align: middle;\n",
       "    }\n",
       "\n",
       "    .dataframe tbody tr th {\n",
       "        vertical-align: top;\n",
       "    }\n",
       "\n",
       "    .dataframe thead th {\n",
       "        text-align: right;\n",
       "    }\n",
       "</style>\n",
       "<table border=\"1\" class=\"dataframe\">\n",
       "  <thead>\n",
       "    <tr style=\"text-align: right;\">\n",
       "      <th></th>\n",
       "      <th>game_stats_tutorial_complete</th>\n",
       "      <th>game_stats_xp3_conv</th>\n",
       "      <th>size</th>\n",
       "    </tr>\n",
       "  </thead>\n",
       "  <tbody>\n",
       "    <tr>\n",
       "      <th>0</th>\n",
       "      <td>0.0</td>\n",
       "      <td>False</td>\n",
       "      <td>3121</td>\n",
       "    </tr>\n",
       "    <tr>\n",
       "      <th>1</th>\n",
       "      <td>0.0</td>\n",
       "      <td>True</td>\n",
       "      <td>57</td>\n",
       "    </tr>\n",
       "    <tr>\n",
       "      <th>2</th>\n",
       "      <td>1.0</td>\n",
       "      <td>False</td>\n",
       "      <td>960925</td>\n",
       "    </tr>\n",
       "    <tr>\n",
       "      <th>3</th>\n",
       "      <td>1.0</td>\n",
       "      <td>True</td>\n",
       "      <td>90657</td>\n",
       "    </tr>\n",
       "    <tr>\n",
       "      <th>4</th>\n",
       "      <td>NaN</td>\n",
       "      <td>False</td>\n",
       "      <td>650049</td>\n",
       "    </tr>\n",
       "    <tr>\n",
       "      <th>5</th>\n",
       "      <td>NaN</td>\n",
       "      <td>True</td>\n",
       "      <td>2749</td>\n",
       "    </tr>\n",
       "  </tbody>\n",
       "</table>\n",
       "</div>"
      ],
      "text/plain": [
       "   game_stats_tutorial_complete  game_stats_xp3_conv    size\n",
       "0                           0.0                False    3121\n",
       "1                           0.0                 True      57\n",
       "2                           1.0                False  960925\n",
       "3                           1.0                 True   90657\n",
       "4                           NaN                False  650049\n",
       "5                           NaN                 True    2749"
      ]
     },
     "execution_count": 144,
     "metadata": {},
     "output_type": "execute_result"
    }
   ],
   "source": [
    "explore_dat.groupby(['game_stats_tutorial_complete','game_stats_xp3_conv'], as_index=False, dropna=False).size()\n",
    "\n",
    "# We can see after running the line that there is some users that could gain xp later in the game despite not completing the tutorial"
   ]
  },
  {
   "cell_type": "code",
   "execution_count": 145,
   "id": "b334208d-274e-465c-b2d9-18edeb2144a6",
   "metadata": {},
   "outputs": [],
   "source": [
    "# Get the total xp from the 4 time intervals\n",
    "explore_dat['game_stats_xp_total'] = explore_dat['game_stats_xp'] + explore_dat['game_stats_xp1'] + explore_dat['game_stats_xp2'] + explore_dat['game_stats_xp3']"
   ]
  },
  {
   "cell_type": "code",
   "execution_count": 146,
   "id": "296ce56e-0684-4702-bf81-1f1a64571cea",
   "metadata": {},
   "outputs": [],
   "source": [
    "# Bin the game_stats_xp_total column\n",
    "bins = [0, 50, 100, 200, 1000, max(explore_dat['game_stats_xp_total'])]\n",
    "explore_dat['game_stats_xp_total_binned'] = pd.cut(explore_dat['game_stats_xp_total'], bins)"
   ]
  },
  {
   "cell_type": "code",
   "execution_count": 147,
   "id": "a83f66f1-1c0e-4d65-98c9-8449cc336865",
   "metadata": {},
   "outputs": [
    {
     "data": {
      "text/html": [
       "<div>\n",
       "<style scoped>\n",
       "    .dataframe tbody tr th:only-of-type {\n",
       "        vertical-align: middle;\n",
       "    }\n",
       "\n",
       "    .dataframe tbody tr th {\n",
       "        vertical-align: top;\n",
       "    }\n",
       "\n",
       "    .dataframe thead th {\n",
       "        text-align: right;\n",
       "    }\n",
       "</style>\n",
       "<table border=\"1\" class=\"dataframe\">\n",
       "  <thead>\n",
       "    <tr style=\"text-align: right;\">\n",
       "      <th></th>\n",
       "      <th>game_stats_tutorial_complete</th>\n",
       "      <th>game_stats_xp_total_binned</th>\n",
       "      <th>size</th>\n",
       "    </tr>\n",
       "  </thead>\n",
       "  <tbody>\n",
       "    <tr>\n",
       "      <th>0</th>\n",
       "      <td>NaN</td>\n",
       "      <td>(0.0, 50.0]</td>\n",
       "      <td>2412</td>\n",
       "    </tr>\n",
       "    <tr>\n",
       "      <th>1</th>\n",
       "      <td>NaN</td>\n",
       "      <td>(50.0, 100.0]</td>\n",
       "      <td>82999</td>\n",
       "    </tr>\n",
       "    <tr>\n",
       "      <th>2</th>\n",
       "      <td>NaN</td>\n",
       "      <td>(100.0, 200.0]</td>\n",
       "      <td>103933</td>\n",
       "    </tr>\n",
       "    <tr>\n",
       "      <th>3</th>\n",
       "      <td>NaN</td>\n",
       "      <td>(200.0, 1000.0]</td>\n",
       "      <td>5949</td>\n",
       "    </tr>\n",
       "    <tr>\n",
       "      <th>4</th>\n",
       "      <td>NaN</td>\n",
       "      <td>(1000.0, 384433.0]</td>\n",
       "      <td>462</td>\n",
       "    </tr>\n",
       "    <tr>\n",
       "      <th>5</th>\n",
       "      <td>0.0</td>\n",
       "      <td>(0.0, 50.0]</td>\n",
       "      <td>0</td>\n",
       "    </tr>\n",
       "    <tr>\n",
       "      <th>6</th>\n",
       "      <td>0.0</td>\n",
       "      <td>(50.0, 100.0]</td>\n",
       "      <td>76</td>\n",
       "    </tr>\n",
       "    <tr>\n",
       "      <th>7</th>\n",
       "      <td>0.0</td>\n",
       "      <td>(100.0, 200.0]</td>\n",
       "      <td>2200</td>\n",
       "    </tr>\n",
       "    <tr>\n",
       "      <th>8</th>\n",
       "      <td>0.0</td>\n",
       "      <td>(200.0, 1000.0]</td>\n",
       "      <td>683</td>\n",
       "    </tr>\n",
       "    <tr>\n",
       "      <th>9</th>\n",
       "      <td>0.0</td>\n",
       "      <td>(1000.0, 384433.0]</td>\n",
       "      <td>194</td>\n",
       "    </tr>\n",
       "    <tr>\n",
       "      <th>10</th>\n",
       "      <td>1.0</td>\n",
       "      <td>(0.0, 50.0]</td>\n",
       "      <td>20</td>\n",
       "    </tr>\n",
       "    <tr>\n",
       "      <th>11</th>\n",
       "      <td>1.0</td>\n",
       "      <td>(50.0, 100.0]</td>\n",
       "      <td>3119</td>\n",
       "    </tr>\n",
       "    <tr>\n",
       "      <th>12</th>\n",
       "      <td>1.0</td>\n",
       "      <td>(100.0, 200.0]</td>\n",
       "      <td>147431</td>\n",
       "    </tr>\n",
       "    <tr>\n",
       "      <th>13</th>\n",
       "      <td>1.0</td>\n",
       "      <td>(200.0, 1000.0]</td>\n",
       "      <td>476581</td>\n",
       "    </tr>\n",
       "    <tr>\n",
       "      <th>14</th>\n",
       "      <td>1.0</td>\n",
       "      <td>(1000.0, 384433.0]</td>\n",
       "      <td>424388</td>\n",
       "    </tr>\n",
       "  </tbody>\n",
       "</table>\n",
       "</div>"
      ],
      "text/plain": [
       "    game_stats_tutorial_complete game_stats_xp_total_binned    size\n",
       "0                            NaN                (0.0, 50.0]    2412\n",
       "1                            NaN              (50.0, 100.0]   82999\n",
       "2                            NaN             (100.0, 200.0]  103933\n",
       "3                            NaN            (200.0, 1000.0]    5949\n",
       "4                            NaN         (1000.0, 384433.0]     462\n",
       "5                            0.0                (0.0, 50.0]       0\n",
       "6                            0.0              (50.0, 100.0]      76\n",
       "7                            0.0             (100.0, 200.0]    2200\n",
       "8                            0.0            (200.0, 1000.0]     683\n",
       "9                            0.0         (1000.0, 384433.0]     194\n",
       "10                           1.0                (0.0, 50.0]      20\n",
       "11                           1.0              (50.0, 100.0]    3119\n",
       "12                           1.0             (100.0, 200.0]  147431\n",
       "13                           1.0            (200.0, 1000.0]  476581\n",
       "14                           1.0         (1000.0, 384433.0]  424388"
      ]
     },
     "execution_count": 147,
     "metadata": {},
     "output_type": "execute_result"
    }
   ],
   "source": [
    "explore_dat.groupby(['game_stats_tutorial_complete','game_stats_xp_total_binned'], as_index=False, dropna=False).size()"
   ]
  },
  {
   "cell_type": "markdown",
   "id": "dc0902a5-98b2-4623-bb33-6f425aca0f38",
   "metadata": {},
   "source": [
    "- It seems that users who do not complete the tutorial still gain some xp in the time intervals. It suggests that there is some reasonable overlap between the tutorial and first 4 time intervals."
   ]
  },
  {
   "cell_type": "code",
   "execution_count": 148,
   "id": "68b96c2a-5a40-4950-aaac-ae8b1104f1c4",
   "metadata": {},
   "outputs": [],
   "source": [
    "# sns.displot(data=explore_dat[explore_dat['game_stats_tutorial_complete']==1].sample(frac=.2, replace=False, random_state=123), x=\"game_stats_xp_total\")"
   ]
  },
  {
   "cell_type": "code",
   "execution_count": 149,
   "id": "8906f12f-c9d0-4d99-8962-2f15a0959ad3",
   "metadata": {},
   "outputs": [
    {
     "data": {
      "text/html": [
       "<div>\n",
       "<style scoped>\n",
       "    .dataframe tbody tr th:only-of-type {\n",
       "        vertical-align: middle;\n",
       "    }\n",
       "\n",
       "    .dataframe tbody tr th {\n",
       "        vertical-align: top;\n",
       "    }\n",
       "\n",
       "    .dataframe thead th {\n",
       "        text-align: right;\n",
       "    }\n",
       "</style>\n",
       "<table border=\"1\" class=\"dataframe\">\n",
       "  <thead>\n",
       "    <tr style=\"text-align: right;\">\n",
       "      <th></th>\n",
       "      <th>uid_s</th>\n",
       "      <th>lang_s</th>\n",
       "      <th>geo_s</th>\n",
       "      <th>region_s</th>\n",
       "      <th>tz_i</th>\n",
       "      <th>local_time_join_hour</th>\n",
       "      <th>local_time_join_dow</th>\n",
       "      <th>total_spend</th>\n",
       "      <th>platform_s</th>\n",
       "      <th>device_mapped_s</th>\n",
       "      <th>device_manufacturer_s</th>\n",
       "      <th>device_mem_i</th>\n",
       "      <th>device_gmem_i</th>\n",
       "      <th>device_mem_grouping_i</th>\n",
       "      <th>device_gmem_grouping_i</th>\n",
       "      <th>...</th>\n",
       "      <th>device_os_s</th>\n",
       "      <th>device_model_s</th>\n",
       "      <th>logins</th>\n",
       "      <th>game_stats_tutorial_complete</th>\n",
       "      <th>game_stats_tutorial_complete_time</th>\n",
       "      <th>game_stats_xp</th>\n",
       "      <th>game_stats_xp1</th>\n",
       "      <th>game_stats_xp2</th>\n",
       "      <th>game_stats_xp3</th>\n",
       "      <th>redeemer_actions</th>\n",
       "      <th>scribe_actions</th>\n",
       "      <th>spender</th>\n",
       "      <th>game_stats_xp3_conv</th>\n",
       "      <th>game_stats_xp_total</th>\n",
       "      <th>game_stats_xp_total_binned</th>\n",
       "    </tr>\n",
       "  </thead>\n",
       "  <tbody>\n",
       "    <tr>\n",
       "      <th>517833</th>\n",
       "      <td>517833</td>\n",
       "      <td>ZH-CN</td>\n",
       "      <td>CN</td>\n",
       "      <td>asia</td>\n",
       "      <td>28800</td>\n",
       "      <td>18</td>\n",
       "      <td>7</td>\n",
       "      <td>0</td>\n",
       "      <td>android</td>\n",
       "      <td>vivo x21a</td>\n",
       "      <td>vivo</td>\n",
       "      <td>1616.0</td>\n",
       "      <td>512.0</td>\n",
       "      <td>1664.0</td>\n",
       "      <td>512.0</td>\n",
       "      <td>...</td>\n",
       "      <td>android os 8.1.0 / api-27 (opm1.171019.011/eng...</td>\n",
       "      <td>vivo x21a</td>\n",
       "      <td>2.0</td>\n",
       "      <td>1.0</td>\n",
       "      <td>6.090000e+08</td>\n",
       "      <td>1311.0</td>\n",
       "      <td>1311.0</td>\n",
       "      <td>0.0</td>\n",
       "      <td>0.0</td>\n",
       "      <td>324.0</td>\n",
       "      <td>245.0</td>\n",
       "      <td>False</td>\n",
       "      <td>False</td>\n",
       "      <td>2622.0</td>\n",
       "      <td>(1000.0, 384433.0]</td>\n",
       "    </tr>\n",
       "    <tr>\n",
       "      <th>417219</th>\n",
       "      <td>417219</td>\n",
       "      <td>ZH-CN</td>\n",
       "      <td>CN</td>\n",
       "      <td>asia</td>\n",
       "      <td>28800</td>\n",
       "      <td>12</td>\n",
       "      <td>7</td>\n",
       "      <td>0</td>\n",
       "      <td>android</td>\n",
       "      <td>mx4</td>\n",
       "      <td>meizu</td>\n",
       "      <td>1895.0</td>\n",
       "      <td>512.0</td>\n",
       "      <td>1920.0</td>\n",
       "      <td>512.0</td>\n",
       "      <td>...</td>\n",
       "      <td>android os 5.1 / api-22 (lmy47i/1520235784)</td>\n",
       "      <td>mx4</td>\n",
       "      <td>3.0</td>\n",
       "      <td>1.0</td>\n",
       "      <td>1.217000e+09</td>\n",
       "      <td>892.0</td>\n",
       "      <td>892.0</td>\n",
       "      <td>0.0</td>\n",
       "      <td>0.0</td>\n",
       "      <td>205.0</td>\n",
       "      <td>197.0</td>\n",
       "      <td>False</td>\n",
       "      <td>False</td>\n",
       "      <td>1784.0</td>\n",
       "      <td>(1000.0, 384433.0]</td>\n",
       "    </tr>\n",
       "    <tr>\n",
       "      <th>1176959</th>\n",
       "      <td>1176959</td>\n",
       "      <td>ZH-CN</td>\n",
       "      <td>CN</td>\n",
       "      <td>asia</td>\n",
       "      <td>28800</td>\n",
       "      <td>0</td>\n",
       "      <td>3</td>\n",
       "      <td>0</td>\n",
       "      <td>iphone</td>\n",
       "      <td>iphone11,6</td>\n",
       "      <td>apple</td>\n",
       "      <td>3735.0</td>\n",
       "      <td>1024.0</td>\n",
       "      <td>3776.0</td>\n",
       "      <td>1024.0</td>\n",
       "      <td>...</td>\n",
       "      <td>ios 12.2</td>\n",
       "      <td>iphone11,6</td>\n",
       "      <td>5.0</td>\n",
       "      <td>1.0</td>\n",
       "      <td>8.440000e+08</td>\n",
       "      <td>689.0</td>\n",
       "      <td>689.0</td>\n",
       "      <td>0.0</td>\n",
       "      <td>0.0</td>\n",
       "      <td>168.0</td>\n",
       "      <td>223.0</td>\n",
       "      <td>False</td>\n",
       "      <td>False</td>\n",
       "      <td>1378.0</td>\n",
       "      <td>(1000.0, 384433.0]</td>\n",
       "    </tr>\n",
       "    <tr>\n",
       "      <th>585508</th>\n",
       "      <td>585508</td>\n",
       "      <td>ZH-CN</td>\n",
       "      <td>CN</td>\n",
       "      <td>asia</td>\n",
       "      <td>28800</td>\n",
       "      <td>21</td>\n",
       "      <td>7</td>\n",
       "      <td>0</td>\n",
       "      <td>android</td>\n",
       "      <td>oppo a83</td>\n",
       "      <td>oppo</td>\n",
       "      <td>2791.0</td>\n",
       "      <td>1024.0</td>\n",
       "      <td>2816.0</td>\n",
       "      <td>1024.0</td>\n",
       "      <td>...</td>\n",
       "      <td>android os 7.1.1 / api-25 (n6f26q/1554776020)</td>\n",
       "      <td>oppo a83</td>\n",
       "      <td>2.0</td>\n",
       "      <td>NaN</td>\n",
       "      <td>NaN</td>\n",
       "      <td>NaN</td>\n",
       "      <td>NaN</td>\n",
       "      <td>NaN</td>\n",
       "      <td>NaN</td>\n",
       "      <td>NaN</td>\n",
       "      <td>3.0</td>\n",
       "      <td>False</td>\n",
       "      <td>False</td>\n",
       "      <td>NaN</td>\n",
       "      <td>NaN</td>\n",
       "    </tr>\n",
       "    <tr>\n",
       "      <th>2840870</th>\n",
       "      <td>2840870</td>\n",
       "      <td>EN</td>\n",
       "      <td>IN</td>\n",
       "      <td>asia</td>\n",
       "      <td>19800</td>\n",
       "      <td>12</td>\n",
       "      <td>5</td>\n",
       "      <td>0</td>\n",
       "      <td>android</td>\n",
       "      <td>sm-j210f</td>\n",
       "      <td>samsung</td>\n",
       "      <td>1360.0</td>\n",
       "      <td>512.0</td>\n",
       "      <td>1408.0</td>\n",
       "      <td>512.0</td>\n",
       "      <td>...</td>\n",
       "      <td>android os 6.0.1 / api-23 (mmb29q/j210fxxu0arl1)</td>\n",
       "      <td>sm-j210f</td>\n",
       "      <td>4.0</td>\n",
       "      <td>NaN</td>\n",
       "      <td>NaN</td>\n",
       "      <td>NaN</td>\n",
       "      <td>NaN</td>\n",
       "      <td>NaN</td>\n",
       "      <td>NaN</td>\n",
       "      <td>12.0</td>\n",
       "      <td>24.0</td>\n",
       "      <td>False</td>\n",
       "      <td>False</td>\n",
       "      <td>NaN</td>\n",
       "      <td>NaN</td>\n",
       "    </tr>\n",
       "  </tbody>\n",
       "</table>\n",
       "<p>5 rows × 33 columns</p>\n",
       "</div>"
      ],
      "text/plain": [
       "           uid_s lang_s geo_s region_s   tz_i  local_time_join_hour  \\\n",
       "517833    517833  ZH-CN    CN     asia  28800                    18   \n",
       "417219    417219  ZH-CN    CN     asia  28800                    12   \n",
       "1176959  1176959  ZH-CN    CN     asia  28800                     0   \n",
       "585508    585508  ZH-CN    CN     asia  28800                    21   \n",
       "2840870  2840870     EN    IN     asia  19800                    12   \n",
       "\n",
       "         local_time_join_dow  total_spend platform_s device_mapped_s  \\\n",
       "517833                     7            0    android       vivo x21a   \n",
       "417219                     7            0    android             mx4   \n",
       "1176959                    3            0     iphone      iphone11,6   \n",
       "585508                     7            0    android        oppo a83   \n",
       "2840870                    5            0    android        sm-j210f   \n",
       "\n",
       "        device_manufacturer_s  device_mem_i  device_gmem_i  \\\n",
       "517833                   vivo        1616.0          512.0   \n",
       "417219                  meizu        1895.0          512.0   \n",
       "1176959                 apple        3735.0         1024.0   \n",
       "585508                   oppo        2791.0         1024.0   \n",
       "2840870               samsung        1360.0          512.0   \n",
       "\n",
       "         device_mem_grouping_i  device_gmem_grouping_i  ...  \\\n",
       "517833                  1664.0                   512.0  ...   \n",
       "417219                  1920.0                   512.0  ...   \n",
       "1176959                 3776.0                  1024.0  ...   \n",
       "585508                  2816.0                  1024.0  ...   \n",
       "2840870                 1408.0                   512.0  ...   \n",
       "\n",
       "                                               device_os_s  device_model_s  \\\n",
       "517833   android os 8.1.0 / api-27 (opm1.171019.011/eng...       vivo x21a   \n",
       "417219         android os 5.1 / api-22 (lmy47i/1520235784)             mx4   \n",
       "1176959                                           ios 12.2      iphone11,6   \n",
       "585508       android os 7.1.1 / api-25 (n6f26q/1554776020)        oppo a83   \n",
       "2840870   android os 6.0.1 / api-23 (mmb29q/j210fxxu0arl1)        sm-j210f   \n",
       "\n",
       "        logins game_stats_tutorial_complete game_stats_tutorial_complete_time  \\\n",
       "517833     2.0                          1.0                      6.090000e+08   \n",
       "417219     3.0                          1.0                      1.217000e+09   \n",
       "1176959    5.0                          1.0                      8.440000e+08   \n",
       "585508     2.0                          NaN                               NaN   \n",
       "2840870    4.0                          NaN                               NaN   \n",
       "\n",
       "         game_stats_xp  game_stats_xp1  game_stats_xp2  game_stats_xp3  \\\n",
       "517833          1311.0          1311.0             0.0             0.0   \n",
       "417219           892.0           892.0             0.0             0.0   \n",
       "1176959          689.0           689.0             0.0             0.0   \n",
       "585508             NaN             NaN             NaN             NaN   \n",
       "2840870            NaN             NaN             NaN             NaN   \n",
       "\n",
       "         redeemer_actions  scribe_actions  spender  game_stats_xp3_conv  \\\n",
       "517833              324.0           245.0    False                False   \n",
       "417219              205.0           197.0    False                False   \n",
       "1176959             168.0           223.0    False                False   \n",
       "585508                NaN             3.0    False                False   \n",
       "2840870              12.0            24.0    False                False   \n",
       "\n",
       "         game_stats_xp_total  game_stats_xp_total_binned  \n",
       "517833                2622.0          (1000.0, 384433.0]  \n",
       "417219                1784.0          (1000.0, 384433.0]  \n",
       "1176959               1378.0          (1000.0, 384433.0]  \n",
       "585508                   NaN                         NaN  \n",
       "2840870                  NaN                         NaN  \n",
       "\n",
       "[5 rows x 33 columns]"
      ]
     },
     "execution_count": 149,
     "metadata": {},
     "output_type": "execute_result"
    }
   ],
   "source": [
    "explore_dat.head()"
   ]
  },
  {
   "cell_type": "code",
   "execution_count": 150,
   "id": "00f36a42-616c-4e23-ad55-9ac612a3ce6b",
   "metadata": {},
   "outputs": [
    {
     "data": {
      "text/html": [
       "<div>\n",
       "<style scoped>\n",
       "    .dataframe tbody tr th:only-of-type {\n",
       "        vertical-align: middle;\n",
       "    }\n",
       "\n",
       "    .dataframe tbody tr th {\n",
       "        vertical-align: top;\n",
       "    }\n",
       "\n",
       "    .dataframe thead th {\n",
       "        text-align: right;\n",
       "    }\n",
       "</style>\n",
       "<table border=\"1\" class=\"dataframe\">\n",
       "  <thead>\n",
       "    <tr style=\"text-align: right;\">\n",
       "      <th></th>\n",
       "      <th>lang_s</th>\n",
       "      <th>avg_spend</th>\n",
       "      <th>prop_spend</th>\n",
       "      <th>num_users</th>\n",
       "    </tr>\n",
       "  </thead>\n",
       "  <tbody>\n",
       "    <tr>\n",
       "      <th>0</th>\n",
       "      <td>AR</td>\n",
       "      <td>0.528426</td>\n",
       "      <td>0.005168</td>\n",
       "      <td>5611</td>\n",
       "    </tr>\n",
       "    <tr>\n",
       "      <th>1</th>\n",
       "      <td>DE</td>\n",
       "      <td>3.025414</td>\n",
       "      <td>0.027790</td>\n",
       "      <td>10939</td>\n",
       "    </tr>\n",
       "    <tr>\n",
       "      <th>2</th>\n",
       "      <td>EN</td>\n",
       "      <td>1.910679</td>\n",
       "      <td>0.017556</td>\n",
       "      <td>383976</td>\n",
       "    </tr>\n",
       "    <tr>\n",
       "      <th>3</th>\n",
       "      <td>ES</td>\n",
       "      <td>0.751815</td>\n",
       "      <td>0.007096</td>\n",
       "      <td>92310</td>\n",
       "    </tr>\n",
       "    <tr>\n",
       "      <th>4</th>\n",
       "      <td>FR</td>\n",
       "      <td>1.725268</td>\n",
       "      <td>0.016442</td>\n",
       "      <td>18003</td>\n",
       "    </tr>\n",
       "    <tr>\n",
       "      <th>5</th>\n",
       "      <td>ID</td>\n",
       "      <td>0.321435</td>\n",
       "      <td>0.004159</td>\n",
       "      <td>5771</td>\n",
       "    </tr>\n",
       "    <tr>\n",
       "      <th>6</th>\n",
       "      <td>IT</td>\n",
       "      <td>2.080139</td>\n",
       "      <td>0.017735</td>\n",
       "      <td>14999</td>\n",
       "    </tr>\n",
       "    <tr>\n",
       "      <th>7</th>\n",
       "      <td>JA</td>\n",
       "      <td>4.932676</td>\n",
       "      <td>0.045038</td>\n",
       "      <td>17230</td>\n",
       "    </tr>\n",
       "    <tr>\n",
       "      <th>8</th>\n",
       "      <td>KO</td>\n",
       "      <td>2.116788</td>\n",
       "      <td>0.019465</td>\n",
       "      <td>4932</td>\n",
       "    </tr>\n",
       "    <tr>\n",
       "      <th>9</th>\n",
       "      <td>NL</td>\n",
       "      <td>1.715210</td>\n",
       "      <td>0.015719</td>\n",
       "      <td>2163</td>\n",
       "    </tr>\n",
       "    <tr>\n",
       "      <th>10</th>\n",
       "      <td>NO</td>\n",
       "      <td>2.260982</td>\n",
       "      <td>0.020672</td>\n",
       "      <td>387</td>\n",
       "    </tr>\n",
       "    <tr>\n",
       "      <th>11</th>\n",
       "      <td>PT</td>\n",
       "      <td>0.776960</td>\n",
       "      <td>0.007379</td>\n",
       "      <td>49462</td>\n",
       "    </tr>\n",
       "    <tr>\n",
       "      <th>12</th>\n",
       "      <td>RU</td>\n",
       "      <td>0.985909</td>\n",
       "      <td>0.009116</td>\n",
       "      <td>31154</td>\n",
       "    </tr>\n",
       "    <tr>\n",
       "      <th>13</th>\n",
       "      <td>TH</td>\n",
       "      <td>1.221098</td>\n",
       "      <td>0.012645</td>\n",
       "      <td>5536</td>\n",
       "    </tr>\n",
       "    <tr>\n",
       "      <th>14</th>\n",
       "      <td>TR</td>\n",
       "      <td>1.021951</td>\n",
       "      <td>0.010019</td>\n",
       "      <td>15671</td>\n",
       "    </tr>\n",
       "    <tr>\n",
       "      <th>15</th>\n",
       "      <td>ZH-CN</td>\n",
       "      <td>2.226238</td>\n",
       "      <td>0.021135</td>\n",
       "      <td>385152</td>\n",
       "    </tr>\n",
       "    <tr>\n",
       "      <th>16</th>\n",
       "      <td>ZH-TW</td>\n",
       "      <td>1.985880</td>\n",
       "      <td>0.020758</td>\n",
       "      <td>8286</td>\n",
       "    </tr>\n",
       "  </tbody>\n",
       "</table>\n",
       "</div>"
      ],
      "text/plain": [
       "   lang_s  avg_spend  prop_spend  num_users\n",
       "0      AR   0.528426    0.005168       5611\n",
       "1      DE   3.025414    0.027790      10939\n",
       "2      EN   1.910679    0.017556     383976\n",
       "3      ES   0.751815    0.007096      92310\n",
       "4      FR   1.725268    0.016442      18003\n",
       "5      ID   0.321435    0.004159       5771\n",
       "6      IT   2.080139    0.017735      14999\n",
       "7      JA   4.932676    0.045038      17230\n",
       "8      KO   2.116788    0.019465       4932\n",
       "9      NL   1.715210    0.015719       2163\n",
       "10     NO   2.260982    0.020672        387\n",
       "11     PT   0.776960    0.007379      49462\n",
       "12     RU   0.985909    0.009116      31154\n",
       "13     TH   1.221098    0.012645       5536\n",
       "14     TR   1.021951    0.010019      15671\n",
       "15  ZH-CN   2.226238    0.021135     385152\n",
       "16  ZH-TW   1.985880    0.020758       8286"
      ]
     },
     "execution_count": 150,
     "metadata": {},
     "output_type": "execute_result"
    }
   ],
   "source": [
    "explore_dat[explore_dat['game_stats_tutorial_complete']==1].groupby('lang_s', as_index=False, dropna=False).agg(avg_spend=('total_spend','mean'), prop_spend=('spender','mean'), num_users=('spender','count'))"
   ]
  },
  {
   "cell_type": "code",
   "execution_count": 151,
   "id": "debb82c2-ec40-4db7-8ea4-62cb4e2d973a",
   "metadata": {},
   "outputs": [
    {
     "data": {
      "text/html": [
       "<div>\n",
       "<style scoped>\n",
       "    .dataframe tbody tr th:only-of-type {\n",
       "        vertical-align: middle;\n",
       "    }\n",
       "\n",
       "    .dataframe tbody tr th {\n",
       "        vertical-align: top;\n",
       "    }\n",
       "\n",
       "    .dataframe thead th {\n",
       "        text-align: right;\n",
       "    }\n",
       "</style>\n",
       "<table border=\"1\" class=\"dataframe\">\n",
       "  <thead>\n",
       "    <tr style=\"text-align: right;\">\n",
       "      <th></th>\n",
       "      <th>region_s</th>\n",
       "      <th>avg_spend</th>\n",
       "      <th>prop_spend</th>\n",
       "      <th>num_users</th>\n",
       "    </tr>\n",
       "  </thead>\n",
       "  <tbody>\n",
       "    <tr>\n",
       "      <th>0</th>\n",
       "      <td>africa</td>\n",
       "      <td>0.430697</td>\n",
       "      <td>0.003915</td>\n",
       "      <td>7662</td>\n",
       "    </tr>\n",
       "    <tr>\n",
       "      <th>1</th>\n",
       "      <td>americas</td>\n",
       "      <td>2.002500</td>\n",
       "      <td>0.018635</td>\n",
       "      <td>296854</td>\n",
       "    </tr>\n",
       "    <tr>\n",
       "      <th>2</th>\n",
       "      <td>asia</td>\n",
       "      <td>1.810940</td>\n",
       "      <td>0.017149</td>\n",
       "      <td>584180</td>\n",
       "    </tr>\n",
       "    <tr>\n",
       "      <th>3</th>\n",
       "      <td>europe</td>\n",
       "      <td>1.784845</td>\n",
       "      <td>0.016086</td>\n",
       "      <td>153299</td>\n",
       "    </tr>\n",
       "    <tr>\n",
       "      <th>4</th>\n",
       "      <td>oceania</td>\n",
       "      <td>4.145107</td>\n",
       "      <td>0.038598</td>\n",
       "      <td>9586</td>\n",
       "    </tr>\n",
       "    <tr>\n",
       "      <th>5</th>\n",
       "      <td>unknown</td>\n",
       "      <td>45.000000</td>\n",
       "      <td>1.000000</td>\n",
       "      <td>1</td>\n",
       "    </tr>\n",
       "  </tbody>\n",
       "</table>\n",
       "</div>"
      ],
      "text/plain": [
       "   region_s  avg_spend  prop_spend  num_users\n",
       "0    africa   0.430697    0.003915       7662\n",
       "1  americas   2.002500    0.018635     296854\n",
       "2      asia   1.810940    0.017149     584180\n",
       "3    europe   1.784845    0.016086     153299\n",
       "4   oceania   4.145107    0.038598       9586\n",
       "5   unknown  45.000000    1.000000          1"
      ]
     },
     "execution_count": 151,
     "metadata": {},
     "output_type": "execute_result"
    }
   ],
   "source": [
    "explore_dat[explore_dat['game_stats_tutorial_complete']==1].groupby('region_s', as_index=False, dropna=False).agg(avg_spend=('total_spend','mean'), prop_spend=('spender','mean'), num_users=('spender','count'))"
   ]
  },
  {
   "cell_type": "code",
   "execution_count": 152,
   "id": "b578057d-c9e4-4619-b398-7efb83c1fe20",
   "metadata": {},
   "outputs": [
    {
     "data": {
      "text/html": [
       "<div>\n",
       "<style scoped>\n",
       "    .dataframe tbody tr th:only-of-type {\n",
       "        vertical-align: middle;\n",
       "    }\n",
       "\n",
       "    .dataframe tbody tr th {\n",
       "        vertical-align: top;\n",
       "    }\n",
       "\n",
       "    .dataframe thead th {\n",
       "        text-align: right;\n",
       "    }\n",
       "</style>\n",
       "<table border=\"1\" class=\"dataframe\">\n",
       "  <thead>\n",
       "    <tr style=\"text-align: right;\">\n",
       "      <th></th>\n",
       "      <th>local_time_join_hour</th>\n",
       "      <th>avg_spend</th>\n",
       "      <th>prop_spend</th>\n",
       "      <th>num_users</th>\n",
       "    </tr>\n",
       "  </thead>\n",
       "  <tbody>\n",
       "    <tr>\n",
       "      <th>0</th>\n",
       "      <td>0</td>\n",
       "      <td>2.788197</td>\n",
       "      <td>0.025792</td>\n",
       "      <td>22875</td>\n",
       "    </tr>\n",
       "    <tr>\n",
       "      <th>1</th>\n",
       "      <td>1</td>\n",
       "      <td>2.698043</td>\n",
       "      <td>0.026248</td>\n",
       "      <td>14820</td>\n",
       "    </tr>\n",
       "    <tr>\n",
       "      <th>2</th>\n",
       "      <td>2</td>\n",
       "      <td>2.888459</td>\n",
       "      <td>0.028670</td>\n",
       "      <td>9557</td>\n",
       "    </tr>\n",
       "    <tr>\n",
       "      <th>3</th>\n",
       "      <td>3</td>\n",
       "      <td>2.545920</td>\n",
       "      <td>0.023487</td>\n",
       "      <td>6642</td>\n",
       "    </tr>\n",
       "    <tr>\n",
       "      <th>4</th>\n",
       "      <td>4</td>\n",
       "      <td>2.251509</td>\n",
       "      <td>0.023074</td>\n",
       "      <td>5634</td>\n",
       "    </tr>\n",
       "    <tr>\n",
       "      <th>5</th>\n",
       "      <td>5</td>\n",
       "      <td>1.824625</td>\n",
       "      <td>0.016741</td>\n",
       "      <td>7407</td>\n",
       "    </tr>\n",
       "    <tr>\n",
       "      <th>6</th>\n",
       "      <td>6</td>\n",
       "      <td>1.869218</td>\n",
       "      <td>0.018078</td>\n",
       "      <td>16539</td>\n",
       "    </tr>\n",
       "    <tr>\n",
       "      <th>7</th>\n",
       "      <td>7</td>\n",
       "      <td>1.952276</td>\n",
       "      <td>0.017892</td>\n",
       "      <td>28057</td>\n",
       "    </tr>\n",
       "    <tr>\n",
       "      <th>8</th>\n",
       "      <td>8</td>\n",
       "      <td>2.039119</td>\n",
       "      <td>0.019742</td>\n",
       "      <td>35660</td>\n",
       "    </tr>\n",
       "    <tr>\n",
       "      <th>9</th>\n",
       "      <td>9</td>\n",
       "      <td>1.957017</td>\n",
       "      <td>0.018237</td>\n",
       "      <td>43482</td>\n",
       "    </tr>\n",
       "    <tr>\n",
       "      <th>10</th>\n",
       "      <td>10</td>\n",
       "      <td>1.796686</td>\n",
       "      <td>0.016884</td>\n",
       "      <td>50877</td>\n",
       "    </tr>\n",
       "    <tr>\n",
       "      <th>11</th>\n",
       "      <td>11</td>\n",
       "      <td>1.857783</td>\n",
       "      <td>0.017388</td>\n",
       "      <td>54635</td>\n",
       "    </tr>\n",
       "    <tr>\n",
       "      <th>12</th>\n",
       "      <td>12</td>\n",
       "      <td>1.871494</td>\n",
       "      <td>0.017501</td>\n",
       "      <td>59538</td>\n",
       "    </tr>\n",
       "    <tr>\n",
       "      <th>13</th>\n",
       "      <td>13</td>\n",
       "      <td>1.664994</td>\n",
       "      <td>0.015461</td>\n",
       "      <td>60799</td>\n",
       "    </tr>\n",
       "    <tr>\n",
       "      <th>14</th>\n",
       "      <td>14</td>\n",
       "      <td>1.611676</td>\n",
       "      <td>0.015309</td>\n",
       "      <td>58464</td>\n",
       "    </tr>\n",
       "    <tr>\n",
       "      <th>15</th>\n",
       "      <td>15</td>\n",
       "      <td>1.739512</td>\n",
       "      <td>0.016616</td>\n",
       "      <td>61569</td>\n",
       "    </tr>\n",
       "    <tr>\n",
       "      <th>16</th>\n",
       "      <td>16</td>\n",
       "      <td>1.629511</td>\n",
       "      <td>0.015693</td>\n",
       "      <td>64234</td>\n",
       "    </tr>\n",
       "    <tr>\n",
       "      <th>17</th>\n",
       "      <td>17</td>\n",
       "      <td>1.708525</td>\n",
       "      <td>0.015980</td>\n",
       "      <td>68963</td>\n",
       "    </tr>\n",
       "    <tr>\n",
       "      <th>18</th>\n",
       "      <td>18</td>\n",
       "      <td>1.733915</td>\n",
       "      <td>0.015917</td>\n",
       "      <td>72691</td>\n",
       "    </tr>\n",
       "    <tr>\n",
       "      <th>19</th>\n",
       "      <td>19</td>\n",
       "      <td>1.681634</td>\n",
       "      <td>0.014954</td>\n",
       "      <td>75165</td>\n",
       "    </tr>\n",
       "    <tr>\n",
       "      <th>20</th>\n",
       "      <td>20</td>\n",
       "      <td>1.699277</td>\n",
       "      <td>0.015464</td>\n",
       "      <td>76306</td>\n",
       "    </tr>\n",
       "    <tr>\n",
       "      <th>21</th>\n",
       "      <td>21</td>\n",
       "      <td>1.918868</td>\n",
       "      <td>0.017827</td>\n",
       "      <td>68715</td>\n",
       "    </tr>\n",
       "    <tr>\n",
       "      <th>22</th>\n",
       "      <td>22</td>\n",
       "      <td>2.235027</td>\n",
       "      <td>0.020925</td>\n",
       "      <td>52713</td>\n",
       "    </tr>\n",
       "    <tr>\n",
       "      <th>23</th>\n",
       "      <td>23</td>\n",
       "      <td>2.481236</td>\n",
       "      <td>0.023400</td>\n",
       "      <td>36240</td>\n",
       "    </tr>\n",
       "  </tbody>\n",
       "</table>\n",
       "</div>"
      ],
      "text/plain": [
       "    local_time_join_hour  avg_spend  prop_spend  num_users\n",
       "0                      0   2.788197    0.025792      22875\n",
       "1                      1   2.698043    0.026248      14820\n",
       "2                      2   2.888459    0.028670       9557\n",
       "3                      3   2.545920    0.023487       6642\n",
       "4                      4   2.251509    0.023074       5634\n",
       "5                      5   1.824625    0.016741       7407\n",
       "6                      6   1.869218    0.018078      16539\n",
       "7                      7   1.952276    0.017892      28057\n",
       "8                      8   2.039119    0.019742      35660\n",
       "9                      9   1.957017    0.018237      43482\n",
       "10                    10   1.796686    0.016884      50877\n",
       "11                    11   1.857783    0.017388      54635\n",
       "12                    12   1.871494    0.017501      59538\n",
       "13                    13   1.664994    0.015461      60799\n",
       "14                    14   1.611676    0.015309      58464\n",
       "15                    15   1.739512    0.016616      61569\n",
       "16                    16   1.629511    0.015693      64234\n",
       "17                    17   1.708525    0.015980      68963\n",
       "18                    18   1.733915    0.015917      72691\n",
       "19                    19   1.681634    0.014954      75165\n",
       "20                    20   1.699277    0.015464      76306\n",
       "21                    21   1.918868    0.017827      68715\n",
       "22                    22   2.235027    0.020925      52713\n",
       "23                    23   2.481236    0.023400      36240"
      ]
     },
     "execution_count": 152,
     "metadata": {},
     "output_type": "execute_result"
    }
   ],
   "source": [
    "explore_dat[explore_dat['game_stats_tutorial_complete']==1].groupby('local_time_join_hour', as_index=False, dropna=False).agg(avg_spend=('total_spend','mean'), prop_spend=('spender','mean'), num_users=('spender','count'))"
   ]
  },
  {
   "cell_type": "code",
   "execution_count": 153,
   "id": "6f3274fb-b1f1-4140-bb57-08ad66936355",
   "metadata": {},
   "outputs": [
    {
     "data": {
      "text/html": [
       "<div>\n",
       "<style scoped>\n",
       "    .dataframe tbody tr th:only-of-type {\n",
       "        vertical-align: middle;\n",
       "    }\n",
       "\n",
       "    .dataframe tbody tr th {\n",
       "        vertical-align: top;\n",
       "    }\n",
       "\n",
       "    .dataframe thead th {\n",
       "        text-align: right;\n",
       "    }\n",
       "</style>\n",
       "<table border=\"1\" class=\"dataframe\">\n",
       "  <thead>\n",
       "    <tr style=\"text-align: right;\">\n",
       "      <th></th>\n",
       "      <th>local_time_join_dow</th>\n",
       "      <th>avg_spend</th>\n",
       "      <th>prop_spend</th>\n",
       "      <th>num_users</th>\n",
       "    </tr>\n",
       "  </thead>\n",
       "  <tbody>\n",
       "    <tr>\n",
       "      <th>0</th>\n",
       "      <td>1</td>\n",
       "      <td>1.743998</td>\n",
       "      <td>0.016305</td>\n",
       "      <td>227053</td>\n",
       "    </tr>\n",
       "    <tr>\n",
       "      <th>1</th>\n",
       "      <td>2</td>\n",
       "      <td>2.059688</td>\n",
       "      <td>0.019483</td>\n",
       "      <td>108866</td>\n",
       "    </tr>\n",
       "    <tr>\n",
       "      <th>2</th>\n",
       "      <td>3</td>\n",
       "      <td>1.940211</td>\n",
       "      <td>0.018056</td>\n",
       "      <td>102293</td>\n",
       "    </tr>\n",
       "    <tr>\n",
       "      <th>3</th>\n",
       "      <td>4</td>\n",
       "      <td>1.760566</td>\n",
       "      <td>0.016586</td>\n",
       "      <td>98457</td>\n",
       "    </tr>\n",
       "    <tr>\n",
       "      <th>4</th>\n",
       "      <td>5</td>\n",
       "      <td>1.987609</td>\n",
       "      <td>0.018309</td>\n",
       "      <td>77392</td>\n",
       "    </tr>\n",
       "    <tr>\n",
       "      <th>5</th>\n",
       "      <td>6</td>\n",
       "      <td>2.004256</td>\n",
       "      <td>0.018703</td>\n",
       "      <td>162377</td>\n",
       "    </tr>\n",
       "    <tr>\n",
       "      <th>6</th>\n",
       "      <td>7</td>\n",
       "      <td>1.809125</td>\n",
       "      <td>0.016937</td>\n",
       "      <td>275144</td>\n",
       "    </tr>\n",
       "  </tbody>\n",
       "</table>\n",
       "</div>"
      ],
      "text/plain": [
       "   local_time_join_dow  avg_spend  prop_spend  num_users\n",
       "0                    1   1.743998    0.016305     227053\n",
       "1                    2   2.059688    0.019483     108866\n",
       "2                    3   1.940211    0.018056     102293\n",
       "3                    4   1.760566    0.016586      98457\n",
       "4                    5   1.987609    0.018309      77392\n",
       "5                    6   2.004256    0.018703     162377\n",
       "6                    7   1.809125    0.016937     275144"
      ]
     },
     "execution_count": 153,
     "metadata": {},
     "output_type": "execute_result"
    }
   ],
   "source": [
    "explore_dat[explore_dat['game_stats_tutorial_complete']==1].groupby('local_time_join_dow', as_index=False, dropna=False).agg(avg_spend=('total_spend','mean'), prop_spend=('spender','mean'), num_users=('spender','count'))"
   ]
  },
  {
   "cell_type": "code",
   "execution_count": 154,
   "id": "329700b6-09fa-4ac5-a575-0c9769bb090f",
   "metadata": {},
   "outputs": [
    {
     "data": {
      "text/html": [
       "<div>\n",
       "<style scoped>\n",
       "    .dataframe tbody tr th:only-of-type {\n",
       "        vertical-align: middle;\n",
       "    }\n",
       "\n",
       "    .dataframe tbody tr th {\n",
       "        vertical-align: top;\n",
       "    }\n",
       "\n",
       "    .dataframe thead th {\n",
       "        text-align: right;\n",
       "    }\n",
       "</style>\n",
       "<table border=\"1\" class=\"dataframe\">\n",
       "  <thead>\n",
       "    <tr style=\"text-align: right;\">\n",
       "      <th></th>\n",
       "      <th>platform_s</th>\n",
       "      <th>avg_spend</th>\n",
       "      <th>prop_spend</th>\n",
       "      <th>num_users</th>\n",
       "    </tr>\n",
       "  </thead>\n",
       "  <tbody>\n",
       "    <tr>\n",
       "      <th>0</th>\n",
       "      <td>android</td>\n",
       "      <td>1.477456</td>\n",
       "      <td>0.013944</td>\n",
       "      <td>793902</td>\n",
       "    </tr>\n",
       "    <tr>\n",
       "      <th>1</th>\n",
       "      <td>iphone</td>\n",
       "      <td>3.089510</td>\n",
       "      <td>0.028512</td>\n",
       "      <td>257680</td>\n",
       "    </tr>\n",
       "  </tbody>\n",
       "</table>\n",
       "</div>"
      ],
      "text/plain": [
       "  platform_s  avg_spend  prop_spend  num_users\n",
       "0    android   1.477456    0.013944     793902\n",
       "1     iphone   3.089510    0.028512     257680"
      ]
     },
     "execution_count": 154,
     "metadata": {},
     "output_type": "execute_result"
    }
   ],
   "source": [
    "explore_dat[explore_dat['game_stats_tutorial_complete']==1].groupby('platform_s', as_index=False, dropna=False).agg(avg_spend=('total_spend','mean'), prop_spend=('spender','mean'), num_users=('spender','count'))"
   ]
  },
  {
   "cell_type": "code",
   "execution_count": 155,
   "id": "b6750d96-c79d-4c88-bf51-a8d45f2611d8",
   "metadata": {},
   "outputs": [
    {
     "data": {
      "text/plain": [
       "1674"
      ]
     },
     "execution_count": 155,
     "metadata": {},
     "output_type": "execute_result"
    }
   ],
   "source": [
    "len(explore_dat[explore_dat['game_stats_tutorial_complete']==1]['device_manufacturer_s'].unique())\n",
    "# There is quite a significant amount of different manufacturer. We could try to group these, but for this assignment, I won't be including them in the models"
   ]
  },
  {
   "cell_type": "code",
   "execution_count": 156,
   "id": "b653a67d-298d-400e-bcc7-3f772d90ac9e",
   "metadata": {},
   "outputs": [
    {
     "data": {
      "text/html": [
       "<div>\n",
       "<style scoped>\n",
       "    .dataframe tbody tr th:only-of-type {\n",
       "        vertical-align: middle;\n",
       "    }\n",
       "\n",
       "    .dataframe tbody tr th {\n",
       "        vertical-align: top;\n",
       "    }\n",
       "\n",
       "    .dataframe thead th {\n",
       "        text-align: right;\n",
       "    }\n",
       "</style>\n",
       "<table border=\"1\" class=\"dataframe\">\n",
       "  <thead>\n",
       "    <tr style=\"text-align: right;\">\n",
       "      <th></th>\n",
       "      <th>device_numcpu_i</th>\n",
       "      <th>avg_spend</th>\n",
       "      <th>prop_spend</th>\n",
       "      <th>num_users</th>\n",
       "    </tr>\n",
       "  </thead>\n",
       "  <tbody>\n",
       "    <tr>\n",
       "      <th>0</th>\n",
       "      <td>1.0</td>\n",
       "      <td>0.077786</td>\n",
       "      <td>0.000449</td>\n",
       "      <td>6685</td>\n",
       "    </tr>\n",
       "    <tr>\n",
       "      <th>1</th>\n",
       "      <td>2.0</td>\n",
       "      <td>2.172854</td>\n",
       "      <td>0.019959</td>\n",
       "      <td>179018</td>\n",
       "    </tr>\n",
       "    <tr>\n",
       "      <th>2</th>\n",
       "      <td>3.0</td>\n",
       "      <td>2.047472</td>\n",
       "      <td>0.020185</td>\n",
       "      <td>10701</td>\n",
       "    </tr>\n",
       "    <tr>\n",
       "      <th>3</th>\n",
       "      <td>4.0</td>\n",
       "      <td>0.464941</td>\n",
       "      <td>0.004477</td>\n",
       "      <td>212640</td>\n",
       "    </tr>\n",
       "    <tr>\n",
       "      <th>4</th>\n",
       "      <td>5.0</td>\n",
       "      <td>0.426009</td>\n",
       "      <td>0.008969</td>\n",
       "      <td>223</td>\n",
       "    </tr>\n",
       "    <tr>\n",
       "      <th>5</th>\n",
       "      <td>6.0</td>\n",
       "      <td>5.061719</td>\n",
       "      <td>0.046794</td>\n",
       "      <td>76313</td>\n",
       "    </tr>\n",
       "    <tr>\n",
       "      <th>6</th>\n",
       "      <td>8.0</td>\n",
       "      <td>1.900022</td>\n",
       "      <td>0.017885</td>\n",
       "      <td>562212</td>\n",
       "    </tr>\n",
       "    <tr>\n",
       "      <th>7</th>\n",
       "      <td>10.0</td>\n",
       "      <td>1.097464</td>\n",
       "      <td>0.011622</td>\n",
       "      <td>3786</td>\n",
       "    </tr>\n",
       "    <tr>\n",
       "      <th>8</th>\n",
       "      <td>16.0</td>\n",
       "      <td>0.000000</td>\n",
       "      <td>0.000000</td>\n",
       "      <td>1</td>\n",
       "    </tr>\n",
       "    <tr>\n",
       "      <th>9</th>\n",
       "      <td>20.0</td>\n",
       "      <td>0.000000</td>\n",
       "      <td>0.000000</td>\n",
       "      <td>1</td>\n",
       "    </tr>\n",
       "    <tr>\n",
       "      <th>10</th>\n",
       "      <td>32.0</td>\n",
       "      <td>0.000000</td>\n",
       "      <td>0.000000</td>\n",
       "      <td>1</td>\n",
       "    </tr>\n",
       "    <tr>\n",
       "      <th>11</th>\n",
       "      <td>NaN</td>\n",
       "      <td>45.000000</td>\n",
       "      <td>1.000000</td>\n",
       "      <td>1</td>\n",
       "    </tr>\n",
       "  </tbody>\n",
       "</table>\n",
       "</div>"
      ],
      "text/plain": [
       "    device_numcpu_i  avg_spend  prop_spend  num_users\n",
       "0               1.0   0.077786    0.000449       6685\n",
       "1               2.0   2.172854    0.019959     179018\n",
       "2               3.0   2.047472    0.020185      10701\n",
       "3               4.0   0.464941    0.004477     212640\n",
       "4               5.0   0.426009    0.008969        223\n",
       "5               6.0   5.061719    0.046794      76313\n",
       "6               8.0   1.900022    0.017885     562212\n",
       "7              10.0   1.097464    0.011622       3786\n",
       "8              16.0   0.000000    0.000000          1\n",
       "9              20.0   0.000000    0.000000          1\n",
       "10             32.0   0.000000    0.000000          1\n",
       "11              NaN  45.000000    1.000000          1"
      ]
     },
     "execution_count": 156,
     "metadata": {},
     "output_type": "execute_result"
    }
   ],
   "source": [
    "explore_dat[explore_dat['game_stats_tutorial_complete']==1].groupby('device_numcpu_i', as_index=False, dropna=False).agg(avg_spend=('total_spend','mean'), prop_spend=('spender','mean'), num_users=('spender','count'))"
   ]
  },
  {
   "cell_type": "code",
   "execution_count": 157,
   "id": "765c8356-7e0c-4e65-a4bb-5c43f6407e32",
   "metadata": {},
   "outputs": [
    {
     "data": {
      "text/plain": [
       "count    1.051581e+06\n",
       "mean     9.107231e+02\n",
       "std      2.552341e+02\n",
       "min      2.400000e+02\n",
       "25%      7.200000e+02\n",
       "50%      8.100000e+02\n",
       "75%      1.080000e+03\n",
       "max      2.960000e+03\n",
       "Name: device_height_i, dtype: float64"
      ]
     },
     "execution_count": 157,
     "metadata": {},
     "output_type": "execute_result"
    }
   ],
   "source": [
    "explore_dat[explore_dat['game_stats_tutorial_complete']==1]['device_height_i'].describe()"
   ]
  },
  {
   "cell_type": "code",
   "execution_count": 158,
   "id": "d02dfd01-5f32-458c-9278-88e2f323080d",
   "metadata": {},
   "outputs": [
    {
     "data": {
      "text/html": [
       "<div>\n",
       "<style scoped>\n",
       "    .dataframe tbody tr th:only-of-type {\n",
       "        vertical-align: middle;\n",
       "    }\n",
       "\n",
       "    .dataframe tbody tr th {\n",
       "        vertical-align: top;\n",
       "    }\n",
       "\n",
       "    .dataframe thead th {\n",
       "        text-align: right;\n",
       "    }\n",
       "</style>\n",
       "<table border=\"1\" class=\"dataframe\">\n",
       "  <thead>\n",
       "    <tr style=\"text-align: right;\">\n",
       "      <th></th>\n",
       "      <th>device_gmem_grouping_i</th>\n",
       "      <th>avg_spend</th>\n",
       "      <th>prop_spend</th>\n",
       "      <th>num_users</th>\n",
       "    </tr>\n",
       "  </thead>\n",
       "  <tbody>\n",
       "    <tr>\n",
       "      <th>0</th>\n",
       "      <td>128.0</td>\n",
       "      <td>0.000000</td>\n",
       "      <td>0.000000</td>\n",
       "      <td>91</td>\n",
       "    </tr>\n",
       "    <tr>\n",
       "      <th>1</th>\n",
       "      <td>256.0</td>\n",
       "      <td>0.572799</td>\n",
       "      <td>0.005046</td>\n",
       "      <td>126039</td>\n",
       "    </tr>\n",
       "    <tr>\n",
       "      <th>2</th>\n",
       "      <td>512.0</td>\n",
       "      <td>1.464421</td>\n",
       "      <td>0.013699</td>\n",
       "      <td>339957</td>\n",
       "    </tr>\n",
       "    <tr>\n",
       "      <th>3</th>\n",
       "      <td>1024.0</td>\n",
       "      <td>2.038065</td>\n",
       "      <td>0.019019</td>\n",
       "      <td>489089</td>\n",
       "    </tr>\n",
       "    <tr>\n",
       "      <th>4</th>\n",
       "      <td>2048.0</td>\n",
       "      <td>4.150244</td>\n",
       "      <td>0.039478</td>\n",
       "      <td>96004</td>\n",
       "    </tr>\n",
       "    <tr>\n",
       "      <th>5</th>\n",
       "      <td>4096.0</td>\n",
       "      <td>9.385965</td>\n",
       "      <td>0.077694</td>\n",
       "      <td>399</td>\n",
       "    </tr>\n",
       "    <tr>\n",
       "      <th>6</th>\n",
       "      <td>16384.0</td>\n",
       "      <td>0.000000</td>\n",
       "      <td>0.000000</td>\n",
       "      <td>1</td>\n",
       "    </tr>\n",
       "    <tr>\n",
       "      <th>7</th>\n",
       "      <td>262144.0</td>\n",
       "      <td>0.000000</td>\n",
       "      <td>0.000000</td>\n",
       "      <td>1</td>\n",
       "    </tr>\n",
       "    <tr>\n",
       "      <th>8</th>\n",
       "      <td>NaN</td>\n",
       "      <td>45.000000</td>\n",
       "      <td>1.000000</td>\n",
       "      <td>1</td>\n",
       "    </tr>\n",
       "  </tbody>\n",
       "</table>\n",
       "</div>"
      ],
      "text/plain": [
       "   device_gmem_grouping_i  avg_spend  prop_spend  num_users\n",
       "0                   128.0   0.000000    0.000000         91\n",
       "1                   256.0   0.572799    0.005046     126039\n",
       "2                   512.0   1.464421    0.013699     339957\n",
       "3                  1024.0   2.038065    0.019019     489089\n",
       "4                  2048.0   4.150244    0.039478      96004\n",
       "5                  4096.0   9.385965    0.077694        399\n",
       "6                 16384.0   0.000000    0.000000          1\n",
       "7                262144.0   0.000000    0.000000          1\n",
       "8                     NaN  45.000000    1.000000          1"
      ]
     },
     "execution_count": 158,
     "metadata": {},
     "output_type": "execute_result"
    }
   ],
   "source": [
    "explore_dat[explore_dat['game_stats_tutorial_complete']==1].groupby('device_gmem_grouping_i', as_index=False, dropna=False).agg(avg_spend=('total_spend','mean'), prop_spend=('spender','mean'), num_users=('spender','count'))"
   ]
  },
  {
   "cell_type": "code",
   "execution_count": 159,
   "id": "6b0ca02b-8fd2-40fb-b628-7aa838f68ad6",
   "metadata": {},
   "outputs": [],
   "source": [
    "explore_dat['game_stats_tutorial_complete_time'] = explore_dat['game_stats_tutorial_complete_time']/1000000/60"
   ]
  },
  {
   "cell_type": "code",
   "execution_count": 160,
   "id": "b1ec27de-4f3d-4c8a-809a-9e15690b2943",
   "metadata": {},
   "outputs": [
    {
     "data": {
      "text/plain": [
       "count    1.051582e+06\n",
       "mean     2.916263e+01\n",
       "std      6.359405e+01\n",
       "min      3.800000e+00\n",
       "25%      8.466667e+00\n",
       "50%      1.061667e+01\n",
       "75%      1.573333e+01\n",
       "max      4.800000e+02\n",
       "Name: game_stats_tutorial_complete_time, dtype: float64"
      ]
     },
     "execution_count": 160,
     "metadata": {},
     "output_type": "execute_result"
    }
   ],
   "source": [
    "explore_dat['game_stats_tutorial_complete_time'].describe()"
   ]
  },
  {
   "cell_type": "code",
   "execution_count": 161,
   "id": "f77a07f2-089e-46a8-bfdf-53c7a200e301",
   "metadata": {},
   "outputs": [],
   "source": [
    "bins = [*range(4, 31, 1)]\n",
    "explore_dat['game_stats_tutorial_complete_time_binned'] = pd.cut(explore_dat['game_stats_tutorial_complete_time'], bins)"
   ]
  },
  {
   "cell_type": "code",
   "execution_count": 162,
   "id": "609853ae-f5a2-4b94-ba98-c57ea2506397",
   "metadata": {},
   "outputs": [],
   "source": [
    "sns_in = explore_dat.groupby(['game_stats_tutorial_complete_time_binned'], as_index=False, dropna=False).agg(avg_spend=('total_spend','mean'), prop_spend=('spender','mean'), num_users=('spender','count'))"
   ]
  },
  {
   "cell_type": "code",
   "execution_count": 163,
   "id": "bd9f0988-7531-4c0f-b93b-49c39946ff99",
   "metadata": {},
   "outputs": [
    {
     "data": {
      "text/plain": [
       "<AxesSubplot:xlabel='game_stats_tutorial_complete_time_binned', ylabel='prop_spend'>"
      ]
     },
     "execution_count": 163,
     "metadata": {},
     "output_type": "execute_result"
    },
    {
     "data": {
      "image/png": "[encoded data removed]",
      "text/plain": [
       "<Figure size 1152x360 with 1 Axes>"
      ]
     },
     "metadata": {},
     "output_type": "display_data"
    }
   ],
   "source": [
    "sns.set(rc = {'figure.figsize':(16,5)})\n",
    "sns.barplot(x=\"game_stats_tutorial_complete_time_binned\", y=\"prop_spend\", data=sns_in, color='b')"
   ]
  },
  {
   "cell_type": "code",
   "execution_count": 165,
   "id": "4a88f812-ffe0-4947-9aea-ad174fc5e354",
   "metadata": {},
   "outputs": [],
   "source": [
    "bins = [*range(0, 1000, 100)]\n",
    "explore_dat['game_stats_xp_binned'] = pd.cut(explore_dat['game_stats_xp'], bins)"
   ]
  },
  {
   "cell_type": "code",
   "execution_count": 166,
   "id": "b3007c9e-e3f8-48fc-afc8-bfe1f257f5a1",
   "metadata": {},
   "outputs": [],
   "source": [
    "sns_in = explore_dat.groupby(['game_stats_xp_binned'], as_index=False, dropna=False).agg(avg_spend=('total_spend','mean'), prop_spend=('spender','mean'), num_users=('spender','count'))"
   ]
  },
  {
   "cell_type": "code",
   "execution_count": 167,
   "id": "c4ca79f9-0f1a-426b-bbbf-b2dbd9feff3c",
   "metadata": {},
   "outputs": [
    {
     "data": {
      "text/plain": [
       "<AxesSubplot:xlabel='game_stats_xp_binned', ylabel='prop_spend'>"
      ]
     },
     "execution_count": 167,
     "metadata": {},
     "output_type": "execute_result"
    },
    {
     "data": {
      "image/png": "[encoded data removed]",
      "text/plain": [
       "<Figure size 1152x360 with 1 Axes>"
      ]
     },
     "metadata": {},
     "output_type": "display_data"
    }
   ],
   "source": [
    "sns.set(rc = {'figure.figsize':(16,5)})\n",
    "sns.barplot(x=\"game_stats_xp_binned\", y=\"prop_spend\", data=sns_in, color='b')"
   ]
  },
  {
   "cell_type": "code",
   "execution_count": 168,
   "id": "207ada32-9117-404f-8d2d-3aef329ddd5b",
   "metadata": {},
   "outputs": [
    {
     "data": {
      "text/plain": [
       "count    1.250447e+06\n",
       "mean     1.546271e+03\n",
       "std      3.665908e+03\n",
       "min      1.000000e+01\n",
       "25%      1.800000e+02\n",
       "50%      6.240000e+02\n",
       "75%      1.420000e+03\n",
       "max      3.844330e+05\n",
       "Name: game_stats_xp_total, dtype: float64"
      ]
     },
     "execution_count": 168,
     "metadata": {},
     "output_type": "execute_result"
    }
   ],
   "source": [
    "explore_dat['game_stats_xp_total'].describe()"
   ]
  },
  {
   "cell_type": "code",
   "execution_count": 169,
   "id": "86369323-ff1d-41b2-ba3a-d900c09b6d04",
   "metadata": {},
   "outputs": [],
   "source": [
    "bins = [*range(0, 2000, 100)]\n",
    "explore_dat['game_stats_xp_total_binned'] = pd.cut(explore_dat['game_stats_xp_total'], bins)"
   ]
  },
  {
   "cell_type": "code",
   "execution_count": 170,
   "id": "ebca7331-27d1-4baf-9b0f-36c16f28d492",
   "metadata": {},
   "outputs": [],
   "source": [
    "sns_in = explore_dat.groupby(['game_stats_xp_total_binned'], as_index=False, dropna=False).agg(avg_spend=('total_spend','mean'), prop_spend=('spender','mean'), num_users=('spender','count'))"
   ]
  },
  {
   "cell_type": "code",
   "execution_count": 171,
   "id": "18d0fb99-e159-46fb-8802-90924ed8ce7d",
   "metadata": {},
   "outputs": [
    {
     "data": {
      "text/plain": [
       "<AxesSubplot:xlabel='game_stats_xp_total_binned', ylabel='prop_spend'>"
      ]
     },
     "execution_count": 171,
     "metadata": {},
     "output_type": "execute_result"
    },
    {
     "data": {
      "image/png": "[encoded data removed]",
      "text/plain": [
       "<Figure size 1296x360 with 1 Axes>"
      ]
     },
     "metadata": {},
     "output_type": "display_data"
    }
   ],
   "source": [
    "sns.set(rc = {'figure.figsize':(18,5)})\n",
    "sns.barplot(x=\"game_stats_xp_total_binned\", y=\"prop_spend\", data=sns_in, color='b')"
   ]
  },
  {
   "cell_type": "code",
   "execution_count": 172,
   "id": "3bc2d53b-14eb-483f-ac2d-e021e4451cd4",
   "metadata": {},
   "outputs": [],
   "source": [
    "sns_in = explore_dat.groupby(['game_stats_tutorial_complete_time_binned'], as_index=False, dropna=False).agg(avg_game_stats_xp_total=('game_stats_xp_total','mean'))"
   ]
  },
  {
   "cell_type": "code",
   "execution_count": 173,
   "id": "55998e84-e2c2-44d0-9f15-d672ac360c65",
   "metadata": {},
   "outputs": [
    {
     "data": {
      "text/plain": [
       "<AxesSubplot:xlabel='game_stats_tutorial_complete_time_binned', ylabel='avg_game_stats_xp_total'>"
      ]
     },
     "execution_count": 173,
     "metadata": {},
     "output_type": "execute_result"
    },
    {
     "data": {
      "image/png": "[encoded data removed]",
      "text/plain": [
       "<Figure size 1296x360 with 1 Axes>"
      ]
     },
     "metadata": {},
     "output_type": "display_data"
    }
   ],
   "source": [
    "sns.set(rc = {'figure.figsize':(18,5)})\n",
    "sns.barplot(x=\"game_stats_tutorial_complete_time_binned\", y=\"avg_game_stats_xp_total\", data=sns_in, color='b')"
   ]
  },
  {
   "cell_type": "code",
   "execution_count": 174,
   "id": "a504dfac-5854-423d-9c83-90e2fbe2a22b",
   "metadata": {},
   "outputs": [],
   "source": [
    "explore_dat['game_stats_xp_3_over_total'] = explore_dat['game_stats_xp3']/explore_dat['game_stats_xp_total']"
   ]
  },
  {
   "cell_type": "code",
   "execution_count": 175,
   "id": "126c30a0-e58b-43f8-abf8-a8b5377a99c5",
   "metadata": {},
   "outputs": [
    {
     "data": {
      "text/plain": [
       "count    1.250447e+06\n",
       "mean     1.571561e-02\n",
       "std      6.718792e-02\n",
       "min      0.000000e+00\n",
       "25%      0.000000e+00\n",
       "50%      0.000000e+00\n",
       "75%      0.000000e+00\n",
       "max      5.000000e-01\n",
       "Name: game_stats_xp_3_over_total, dtype: float64"
      ]
     },
     "execution_count": 175,
     "metadata": {},
     "output_type": "execute_result"
    }
   ],
   "source": [
    "explore_dat['game_stats_xp_3_over_total'].describe()"
   ]
  },
  {
   "cell_type": "code",
   "execution_count": 176,
   "id": "3018a78b-83cf-4354-ab47-e9df5dbc0b17",
   "metadata": {},
   "outputs": [],
   "source": [
    "bins = [0, .1, .2, .3, .4, .5]\n",
    "explore_dat['game_stats_xp_3_over_total_binned'] = pd.cut(explore_dat['game_stats_xp_3_over_total'], bins)"
   ]
  },
  {
   "cell_type": "code",
   "execution_count": 177,
   "id": "7086fe32-2480-48b8-b972-312bc0cdb583",
   "metadata": {},
   "outputs": [],
   "source": [
    "sns_in = explore_dat.groupby(['game_stats_xp_3_over_total_binned'], as_index=False, dropna=False).agg(avg_spend=('total_spend','mean'), prop_spend=('spender','mean'), num_users=('spender','count'))"
   ]
  },
  {
   "cell_type": "code",
   "execution_count": 178,
   "id": "fdb7a7b3-d723-441f-ab7a-91f68ce5ce4a",
   "metadata": {},
   "outputs": [
    {
     "data": {
      "text/plain": [
       "<AxesSubplot:xlabel='game_stats_xp_3_over_total_binned', ylabel='prop_spend'>"
      ]
     },
     "execution_count": 178,
     "metadata": {},
     "output_type": "execute_result"
    },
    {
     "data": {
      "image/png": "[encoded data removed]",
      "text/plain": [
       "<Figure size 1296x360 with 1 Axes>"
      ]
     },
     "metadata": {},
     "output_type": "display_data"
    }
   ],
   "source": [
    "sns.set(rc = {'figure.figsize':(18,5)})\n",
    "sns.barplot(x=\"game_stats_xp_3_over_total_binned\", y=\"prop_spend\", data=sns_in, color='b')"
   ]
  },
  {
   "cell_type": "code",
   "execution_count": 179,
   "id": "fd1f226c-fd86-4b2b-9d2b-fd6966cb2411",
   "metadata": {},
   "outputs": [],
   "source": [
    "explore_dat['game_stats_xp_0_over_total'] = explore_dat['game_stats_xp']/explore_dat['game_stats_xp_total']"
   ]
  },
  {
   "cell_type": "code",
   "execution_count": 180,
   "id": "0d30419d-474f-46af-b775-c4c5d00f718e",
   "metadata": {},
   "outputs": [
    {
     "data": {
      "text/plain": [
       "count    1.250447e+06\n",
       "mean     5.322258e-01\n",
       "std      1.002375e-01\n",
       "min      4.000000e-01\n",
       "25%      5.000000e-01\n",
       "50%      5.000000e-01\n",
       "75%      5.000000e-01\n",
       "max      1.000000e+00\n",
       "Name: game_stats_xp_0_over_total, dtype: float64"
      ]
     },
     "execution_count": 180,
     "metadata": {},
     "output_type": "execute_result"
    }
   ],
   "source": [
    "explore_dat['game_stats_xp_0_over_total'].describe()"
   ]
  },
  {
   "cell_type": "code",
   "execution_count": 181,
   "id": "a72bedc5-7c51-4782-a3d1-f7f7f595341c",
   "metadata": {},
   "outputs": [],
   "source": [
    "bins = [.2, .3, .4, .5, .6, .7, .8, .9, 1]\n",
    "explore_dat['game_stats_xp_0_over_total_binned'] = pd.cut(explore_dat['game_stats_xp_0_over_total'], bins)"
   ]
  },
  {
   "cell_type": "code",
   "execution_count": 182,
   "id": "0ad990f7-00ec-476f-b62d-e47e0ff230e1",
   "metadata": {},
   "outputs": [],
   "source": [
    "sns_in = explore_dat.groupby(['game_stats_xp_0_over_total_binned'], as_index=False, dropna=False).agg(avg_spend=('total_spend','mean'), prop_spend=('spender','mean'), num_users=('spender','count'))"
   ]
  },
  {
   "cell_type": "code",
   "execution_count": 183,
   "id": "18ea0544-fa33-4d46-aa5c-8c7f9a7ce38f",
   "metadata": {},
   "outputs": [
    {
     "data": {
      "text/plain": [
       "<AxesSubplot:xlabel='game_stats_xp_0_over_total_binned', ylabel='prop_spend'>"
      ]
     },
     "execution_count": 183,
     "metadata": {},
     "output_type": "execute_result"
    },
    {
     "data": {
      "image/png": "[encoded data removed]",
      "text/plain": [
       "<Figure size 1296x360 with 1 Axes>"
      ]
     },
     "metadata": {},
     "output_type": "display_data"
    }
   ],
   "source": [
    "sns.set(rc = {'figure.figsize':(18,5)})\n",
    "sns.barplot(x=\"game_stats_xp_0_over_total_binned\", y=\"prop_spend\", data=sns_in, color='b')"
   ]
  },
  {
   "cell_type": "code",
   "execution_count": 184,
   "id": "917b1db2-d527-45ef-b8a2-c7381ba5ab6c",
   "metadata": {},
   "outputs": [],
   "source": [
    "explore_dat['game_stats_xp_conv'] = explore_dat['game_stats_xp'] > 0\n",
    "explore_dat['game_stats_xp1_conv'] = explore_dat['game_stats_xp1'] > 0\n",
    "explore_dat['game_stats_xp2_conv'] = explore_dat['game_stats_xp2'] > 0\n",
    "explore_dat['game_stats_xp_num_conv'] = explore_dat['game_stats_xp_conv'].astype(int) + explore_dat['game_stats_xp1_conv'].astype(int) + explore_dat['game_stats_xp2_conv'].astype(int) + explore_dat['game_stats_xp3_conv'].astype(int)"
   ]
  },
  {
   "cell_type": "code",
   "execution_count": 185,
   "id": "9b2c8962-5659-4f71-a5af-425b7363e5b7",
   "metadata": {},
   "outputs": [],
   "source": [
    "sns_in = explore_dat.groupby(['game_stats_xp_conv'], as_index=False, dropna=False).agg(avg_spend=('total_spend','mean'), prop_spend=('spender','mean'), num_users=('spender','count'))"
   ]
  },
  {
   "cell_type": "code",
   "execution_count": 186,
   "id": "5bf8c963-4de0-4a78-b910-5cb108465ca4",
   "metadata": {},
   "outputs": [
    {
     "data": {
      "text/plain": [
       "<AxesSubplot:xlabel='game_stats_xp_conv', ylabel='prop_spend'>"
      ]
     },
     "execution_count": 186,
     "metadata": {},
     "output_type": "execute_result"
    },
    {
     "data": {
      "image/png": "[encoded data removed]",
      "text/plain": [
       "<Figure size 1296x360 with 1 Axes>"
      ]
     },
     "metadata": {},
     "output_type": "display_data"
    }
   ],
   "source": [
    "sns.set(rc = {'figure.figsize':(18,5)})\n",
    "sns.barplot(x=\"game_stats_xp_conv\", y=\"prop_spend\", data=sns_in, color='b')"
   ]
  },
  {
   "cell_type": "code",
   "execution_count": 187,
   "id": "15483209-f12a-4f75-8e97-4526ba919961",
   "metadata": {},
   "outputs": [],
   "source": [
    "sns_in = explore_dat.groupby(['game_stats_xp3_conv'], as_index=False, dropna=False).agg(avg_spend=('total_spend','mean'), prop_spend=('spender','mean'), num_users=('spender','count'))"
   ]
  },
  {
   "cell_type": "code",
   "execution_count": 188,
   "id": "3c4959f7-a7ca-48d0-8af2-d903a4915e92",
   "metadata": {},
   "outputs": [
    {
     "data": {
      "text/plain": [
       "<AxesSubplot:xlabel='game_stats_xp3_conv', ylabel='prop_spend'>"
      ]
     },
     "execution_count": 188,
     "metadata": {},
     "output_type": "execute_result"
    },
    {
     "data": {
      "image/png": "[encoded data removed]",
      "text/plain": [
       "<Figure size 1296x360 with 1 Axes>"
      ]
     },
     "metadata": {},
     "output_type": "display_data"
    }
   ],
   "source": [
    "sns.set(rc = {'figure.figsize':(18,5)})\n",
    "sns.barplot(x=\"game_stats_xp3_conv\", y=\"prop_spend\", data=sns_in, color='b')"
   ]
  },
  {
   "cell_type": "code",
   "execution_count": 189,
   "id": "b9248198-4b96-461f-8852-396890c7ba7e",
   "metadata": {},
   "outputs": [],
   "source": [
    "sns_in = explore_dat.groupby(['game_stats_xp_num_conv'], as_index=False, dropna=False).agg(avg_spend=('total_spend','mean'), prop_spend=('spender','mean'), num_users=('spender','count'))"
   ]
  },
  {
   "cell_type": "code",
   "execution_count": 190,
   "id": "d3e748f1-0a45-42a1-9a8e-dd4350320208",
   "metadata": {},
   "outputs": [
    {
     "data": {
      "text/plain": [
       "<AxesSubplot:xlabel='game_stats_xp_num_conv', ylabel='prop_spend'>"
      ]
     },
     "execution_count": 190,
     "metadata": {},
     "output_type": "execute_result"
    },
    {
     "data": {
      "image/png": "[encoded data removed]",
      "text/plain": [
       "<Figure size 1296x360 with 1 Axes>"
      ]
     },
     "metadata": {},
     "output_type": "display_data"
    }
   ],
   "source": [
    "sns.set(rc = {'figure.figsize':(18,5)})\n",
    "sns.barplot(x=\"game_stats_xp_num_conv\", y=\"prop_spend\", data=sns_in, color='b')"
   ]
  },
  {
   "cell_type": "code",
   "execution_count": 191,
   "id": "871abe1f-b653-498e-87d0-9413b495c7aa",
   "metadata": {},
   "outputs": [],
   "source": [
    "explore_dat['total_spend_over_logins'] = explore_dat['total_spend']/explore_dat['logins']"
   ]
  },
  {
   "cell_type": "markdown",
   "id": "51c36876-c0e8-44ec-9e2d-fe33b668d025",
   "metadata": {},
   "source": [
    "END OF DATA EXPLORATION"
   ]
  },
  {
   "cell_type": "code",
   "execution_count": 192,
   "id": "86bf10d5-e403-4e5f-9136-f48573a6b916",
   "metadata": {},
   "outputs": [],
   "source": [
    "def select_features_and_target(x):\n",
    "    \"\"\"\n",
    "    Hard-coded features and target to keep from the data. (All models run this)\n",
    "    \"\"\"\n",
    "    features_and_target = ['region_s','local_time_join_hour','local_time_join_dow','platform_s','device_gmem_grouping_i','device_numcpu_i','device_height_i','game_stats_tutorial_complete','game_stats_tutorial_complete_time',\n",
    "                            'game_stats_xp','game_stats_xp1','game_stats_xp2','game_stats_xp3','total_spend']\n",
    "    return x[features_and_target]\n",
    "    \n",
    "def replace_target(x):\n",
    "    \"\"\"\n",
    "    Select features to keep from the data. (All models run this)\n",
    "    \"\"\"\n",
    "    x['spender'] = x['total_spend'] > 0\n",
    "    x.drop(['total_spend'], axis=1, inplace=True)\n",
    "    return x\n",
    "\n",
    "def preprocess_clean(x):\n",
    "    \"\"\"\n",
    "    Further clean up of any columns\n",
    "    \"\"\"\n",
    "    dict_to_replace = {'unknown': 'africa'} # unknown value under region_s only has one record, just move it into africa, the single record won't majory impact the results\n",
    "    x = x.replace({'region_s': dict_to_replace})\n",
    "    x['game_stats_tutorial_complete_time'] = x['game_stats_tutorial_complete_time']/(60*1000000)\n",
    "    return x\n",
    "\n",
    "def fill_in_missing(x):\n",
    "    x['game_stats_tutorial_complete'] = x['game_stats_tutorial_complete'].fillna(0)\n",
    "    x['game_stats_xp'] = x['game_stats_xp'].fillna(0)\n",
    "    x['game_stats_xp1'] = x['game_stats_xp1'].fillna(0)\n",
    "    x['game_stats_xp2'] = x['game_stats_xp2'].fillna(0)\n",
    "    x['game_stats_xp3'] = x['game_stats_xp3'].fillna(0)\n",
    "    return x\n",
    "\n",
    "def add_new_features(x):\n",
    "    \"\"\"\n",
    "    Additional features to add into feature vector. There was some signal from exploring the data.\n",
    "    \"\"\"\n",
    "    x['game_stats_xp_total'] = x['game_stats_xp'] + x['game_stats_xp1'] + x['game_stats_xp2'] + x['game_stats_xp3'] # Total xp on first 4 time intervals\n",
    "    x['game_stats_xp_conv'] = x['game_stats_xp'] > 0 # Did the user gain any xp in the first time interval\n",
    "    x['game_stats_xp1_conv'] = x['game_stats_xp1'] > 0\n",
    "    x['game_stats_xp2_conv'] = x['game_stats_xp2'] > 0\n",
    "    x['game_stats_xp3_conv'] = x['game_stats_xp3'] > 0\n",
    "    # Out of the 4 time intervals, how many of the intervals did the user gain xp in\n",
    "    x['game_stats_xp_num_conv'] = x['game_stats_xp_conv'].astype(int) + x['game_stats_xp1_conv'].astype(int) + x['game_stats_xp2_conv'].astype(int) + x['game_stats_xp3_conv'].astype(int)\n",
    "    return x\n",
    "\n",
    "def transform_features(x):\n",
    "    \"\"\"\n",
    "    Convert the hour and dow features so it better represents a cyclical feature\n",
    "    \"\"\"\n",
    "    x['hour_sin'] = np.sin(2*np.pi*x['local_time_join_hour']/24)\n",
    "    x['hour_cos'] = np.cos(2*np.pi*x['local_time_join_hour']/24)\n",
    "    x.drop(['local_time_join_hour'], axis=1, inplace=True)\n",
    "\n",
    "    x['dow_sin'] = np.sin(2*np.pi*(x['local_time_join_dow']-1)/7)\n",
    "    x['dow_cos'] = np.cos(2*np.pi*(x['local_time_join_dow']-1)/7)\n",
    "    x.drop(['local_time_join_dow'], axis=1, inplace=True)\n",
    "\n",
    "    #x.loc[x['game_stats_tutorial_complete_time'] > 60, 'game_stats_tutorial_complete_time'] = 60\n",
    "    return x\n",
    "\n",
    "def standardize_cols(x):\n",
    "    cols_to_standardize = list(x.columns[(x.dtypes.values == np.dtype('float64'))])\n",
    "    cols_to_standardize.remove('game_stats_tutorial_complete')\n",
    "\n",
    "    x[cols_to_standardize] = StandardScaler().fit_transform(x[cols_to_standardize])\n",
    "    return x\n",
    "\n",
    "def get_X(x, features):\n",
    "    return x[features]\n",
    "\n",
    "def get_y(x, target):\n",
    "    return x[target]"
   ]
  },
  {
   "cell_type": "code",
   "execution_count": 203,
   "id": "a070757b-b28f-4c64-98ce-ced632a0de9c",
   "metadata": {},
   "outputs": [],
   "source": [
    "def run_rf_processor(train, test, perform_feature_improvements, rf_args):\n",
    "    \"\"\"\n",
    "    Perform and evalulate the model using random forest:\n",
    "        - Setup and clean the data\n",
    "        - If perform_feature_improvements is True, then include additional features, transform cyclical features, and standardize columns\n",
    "        - Split up the data to users who completed (1) vs not completed (2) the tutorial. The variables are denoted as 1 and 2, for example train1 corresponds to the training set of users who completed the tutorial.\n",
    "        - Train the model and evaluate on the two data sets separately.\n",
    "    \n",
    "    train (df): The training data set\n",
    "    test (df): The testing data set\n",
    "    perform_feature_improvements (bool): Whether to also perform include additional features, transform cyclical features, and standardize columns\n",
    "    rf_args (dict): Dictionary that contains random forest parameters.\n",
    "    \"\"\"\n",
    "    \n",
    "    train_in = train.copy()\n",
    "    test_in = test.copy()\n",
    "\n",
    "    train_in_0 = train_in[train_in['total_spend'] == 0].sample(frac=.5, replace=False)\n",
    "    train_in_1 = train_in[train_in['total_spend'] > 0]\n",
    "    train_in = pd.concat([train_in_0, train_in_1])\n",
    "    \n",
    "    #print(train_in.head())\n",
    "    \n",
    "    train_in = select_features_and_target(train_in)\n",
    "    test_in = select_features_and_target(test_in)\n",
    "\n",
    "    train_in = replace_target(train_in)\n",
    "    test_in = replace_target(test_in)\n",
    "\n",
    "    train_in = fill_in_missing(train_in)\n",
    "    test_in = fill_in_missing(test_in)\n",
    "\n",
    "    train_in = preprocess_clean(train_in)\n",
    "    test_in = preprocess_clean(test_in)\n",
    "\n",
    "    if(perform_feature_improvements):\n",
    "        train_in = add_new_features(train_in)\n",
    "        test_in = add_new_features(test_in)\n",
    "        train_in = transform_features(train_in)\n",
    "        test_in = transform_features(test_in)\n",
    "        train_in = standardize_cols(train_in)\n",
    "        test_in = standardize_cols(test_in)\n",
    "\n",
    "    train1 = train_in[train_in['game_stats_tutorial_complete'] == 1].copy()\n",
    "    train2 = train_in[train_in['game_stats_tutorial_complete'] == 0].copy()\n",
    "    test1 = test_in[test_in['game_stats_tutorial_complete'] == 1].copy()\n",
    "    test2 = test_in[test_in['game_stats_tutorial_complete'] == 0].copy()\n",
    "\n",
    "    train1.drop(['game_stats_tutorial_complete'], axis=1, inplace=True)\n",
    "    train2.drop(['game_stats_tutorial_complete','game_stats_tutorial_complete_time'], axis=1, inplace=True)\n",
    "    test1.drop(['game_stats_tutorial_complete'], axis=1, inplace=True)\n",
    "    test2.drop(['game_stats_tutorial_complete','game_stats_tutorial_complete_time'], axis=1, inplace=True)\n",
    "\n",
    "    train1.dropna(inplace=True)\n",
    "    train2.dropna(inplace=True)\n",
    "    \n",
    "    target = 'spender'\n",
    "    features1 = list(train1.columns)\n",
    "    features1.remove(target)\n",
    "    features2 = list(train2.columns)\n",
    "    features2.remove(target)\n",
    "\n",
    "    X1 = get_X(train1, features1)\n",
    "    X2 = get_X(train2, features2)\n",
    "    X1_test = get_X(test1, features1)\n",
    "    X2_test = get_X(test2, features2)\n",
    "\n",
    "    y1 = get_y(train1, target)\n",
    "    y2 = get_y(train2, target)\n",
    "    y1_test = get_y(test1, target)\n",
    "    y2_test = get_y(test2, target)\n",
    "\n",
    "    X1 = pd.get_dummies(X1)\n",
    "    X2 = pd.get_dummies(X2)\n",
    "    X1_test = pd.get_dummies(X1_test)\n",
    "    X2_test = pd.get_dummies(X2_test)\n",
    "\n",
    "    X1 = np.array(X1)\n",
    "    X2 = np.array(X2)\n",
    "    X1_test = np.array(X1_test)\n",
    "    X2_test = np.array(X2_test)\n",
    "\n",
    "    y1 = np.array(y1).astype(int)\n",
    "    y2 = np.array(y2).astype(int)\n",
    "    y1_test = np.array(y1_test).astype(int)\n",
    "    y2_test = np.array(y2_test).astype(int)\n",
    "\n",
    "    model1 = RandomForestClassifier(n_estimators=rf_args['trees'], class_weight=rf_args['class_weight'])\n",
    "    model2 = RandomForestClassifier(n_estimators=rf_args['trees'], class_weight=rf_args['class_weight'])\n",
    "\n",
    "    print('Training model for users who completed tutorial')\n",
    "    model1.fit(X1, y1)\n",
    "    print('Training model for users who did not complete the tutorial')\n",
    "    model2.fit(X2, y2)\n",
    "    \n",
    "    pred1 = model1.predict(X1_test)\n",
    "    pred2 = model2.predict(X2_test)\n",
    "\n",
    "    print('Results for users who completed the tutorial:')\n",
    "    print('Accuracy:', accuracy_score(y1_test, pred1))\n",
    "    print('Precision:', precision_score(y1_test, pred1))\n",
    "    print('Recall:', recall_score(y1_test, pred1))\n",
    "    \n",
    "    print('Results for users who did not complete the tutorial:')\n",
    "    print('Accuracy:', accuracy_score(y2_test, pred2))\n",
    "    print('Precision:', precision_score(y2_test, pred2))\n",
    "    print('Recall:', recall_score(y2_test, pred2))\n",
    "    \n",
    "    print('Feature Importance:')\n",
    "    for name, importance in zip(features1, model1.feature_importances_):\n",
    "        print(name, \":\", importance)\n",
    "    \n",
    "    del train_in\n",
    "    del test_in\n",
    "    del train1\n",
    "    del train2\n",
    "    del test1\n",
    "    del test2"
   ]
  },
  {
   "cell_type": "code",
   "execution_count": 197,
   "id": "1673a759-52d1-40ac-bc4e-7677c41eeb4a",
   "metadata": {},
   "outputs": [],
   "source": [
    "train_rf_base = train.copy()\n",
    "test_rf_base = test.copy()"
   ]
  },
  {
   "cell_type": "code",
   "execution_count": 198,
   "id": "27984521-7797-4076-be1c-b43823916146",
   "metadata": {},
   "outputs": [
    {
     "name": "stdout",
     "output_type": "stream",
     "text": [
      "Training model for users who completed tutorial\n",
      "Training model for users who did not complete the tutorial\n",
      "Results for users who completed the tutorial:\n",
      "Accuracy: 0.9819171453626712\n",
      "Precision: 0.2718676122931442\n",
      "Recall: 0.018737270875763747\n",
      "Results for users who did not complete the tutorial:\n",
      "Accuracy: 0.9982588137569688\n",
      "Precision: 0.0\n",
      "Recall: 0.0\n",
      "Feature Importance:\n",
      "region_s : 0.11468165599350513\n",
      "local_time_join_hour : 0.06905699579560147\n",
      "local_time_join_dow : 0.019735737491765198\n",
      "platform_s : 0.012547563211246067\n",
      "device_gmem_grouping_i : 0.03961009629371315\n",
      "device_numcpu_i : 0.2204010429462038\n",
      "device_height_i : 0.19642850659269373\n",
      "game_stats_tutorial_complete_time : 0.14966414356556415\n",
      "game_stats_xp : 0.08387075957962394\n",
      "game_stats_xp1 : 0.054255044473023054\n",
      "game_stats_xp2 : 0.0006962097213295999\n",
      "game_stats_xp3 : 0.010432331243742592\n"
     ]
    }
   ],
   "source": [
    "rf_args = {'trees': 100, 'class_weight':{0:.5, 1:.5}}\n",
    "run_rf_processor(train_rf_base, test_rf_base, False, rf_args)"
   ]
  },
  {
   "cell_type": "code",
   "execution_count": 199,
   "id": "7b68d10d-ac5e-4792-addd-ae11a394a69c",
   "metadata": {},
   "outputs": [],
   "source": [
    "del train_rf_base\n",
    "del test_rf_base"
   ]
  },
  {
   "cell_type": "code",
   "execution_count": 200,
   "id": "1672975e-7f07-4496-bd02-02a284bcb137",
   "metadata": {},
   "outputs": [],
   "source": [
    "train_rf_2 = train.copy()\n",
    "test_rf_2 = test.copy()"
   ]
  },
  {
   "cell_type": "code",
   "execution_count": 206,
   "id": "96c157b3-ee4c-4076-bd12-7e17e3788b14",
   "metadata": {},
   "outputs": [
    {
     "name": "stdout",
     "output_type": "stream",
     "text": [
      "Training model for users who completed tutorial\n",
      "Training model for users who did not complete the tutorial\n",
      "Results for users who completed the tutorial:\n",
      "Accuracy: 0.9813244287783183\n",
      "Precision: 0.24635845471817605\n",
      "Recall: 0.03169042769857434\n",
      "Results for users who did not complete the tutorial:\n",
      "Accuracy: 0.9982565317304379\n",
      "Precision: 0.0\n",
      "Recall: 0.0\n",
      "Feature Importance:\n",
      "region_s : 0.01499893732624846\n",
      "platform_s : 0.010217763376716859\n",
      "device_gmem_grouping_i : 0.03612167708639621\n",
      "device_numcpu_i : 0.21009278444510207\n",
      "device_height_i : 0.12695160295268249\n",
      "game_stats_tutorial_complete_time : 0.11612609753738784\n",
      "game_stats_xp : 0.060538016502273896\n",
      "game_stats_xp1 : 0.03877331474964792\n",
      "game_stats_xp2 : 0.1258333685714237\n",
      "game_stats_xp3 : 4.8768879170899786e-06\n",
      "game_stats_xp_total : 0.0016478541043916637\n",
      "game_stats_xp_conv : 0.0032611624315266995\n",
      "game_stats_xp1_conv : 0.0033781306640763907\n",
      "game_stats_xp2_conv : 0.006434695664964344\n",
      "game_stats_xp3_conv : 0.06566957018777722\n",
      "game_stats_xp_num_conv : 0.06345871942086646\n",
      "hour_sin : 0.04632699613163727\n",
      "hour_cos : 0.0339989843728563\n",
      "dow_sin : 0.000593302457290061\n",
      "dow_cos : 0.010084744511870995\n"
     ]
    }
   ],
   "source": [
    "#rf_args = {'trees': 100, 'class_weight':{0:.05, 1:.95}}\n",
    "rf_args = {'trees': 100, 'class_weight':{0:.9999, 1:.0001}}\n",
    "run_rf_processor(train_rf_2, test_rf_2, True, rf_args)"
   ]
  },
  {
   "cell_type": "code",
   "execution_count": 207,
   "id": "7c8da493-bed0-4758-ab26-5ebf77e14d8a",
   "metadata": {},
   "outputs": [],
   "source": [
    "del train_rf_2\n",
    "del test_rf_2"
   ]
  }
 ],
 "metadata": {
  "kernelspec": {
   "display_name": "Python 3 (ipykernel)",
   "language": "python",
   "name": "python3"
  },
  "language_info": {
   "codemirror_mode": {
    "name": "ipython",
    "version": 3
   },
   "file_extension": ".py",
   "mimetype": "text/x-python",
   "name": "python",
   "nbconvert_exporter": "python",
   "pygments_lexer": "ipython3",
   "version": "3.8.10"
  }
 },
 "nbformat": 4,
 "nbformat_minor": 5
}
